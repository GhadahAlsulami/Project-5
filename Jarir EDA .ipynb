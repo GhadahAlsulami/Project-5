{
 "cells": [
  {
   "cell_type": "markdown",
   "metadata": {},
   "source": [
    "## Import Libraries"
   ]
  },
  {
   "cell_type": "code",
   "execution_count": 284,
   "metadata": {},
   "outputs": [],
   "source": [
    "# To ignore warnings\n",
    "import warnings\n",
    "warnings.filterwarnings(\"ignore\")\n",
    "import pandas as pd\n",
    "import numpy as np\n",
    "import matplotlib.pyplot as plt\n",
    "import seaborn as sns\n",
    "import plotly.express as px\n",
    "\n",
    "from sklearn.model_selection import train_test_split\n",
    "from sklearn.metrics import mean_squared_error, r2_score, mean_absolute_error\n",
    "from sklearn.preprocessing import StandardScaler\n",
    "from sklearn.linear_model import LinearRegression, Ridge, Lasso\n",
    "from sklearn.model_selection import GridSearchCV\n",
    "from sklearn import metrics\n",
    "\n",
    "%matplotlib inline"
   ]
  },
  {
   "cell_type": "markdown",
   "metadata": {},
   "source": [
    "## Load the Data"
   ]
  },
  {
   "cell_type": "code",
   "execution_count": 351,
   "metadata": {},
   "outputs": [],
   "source": [
    "df = pd.read_csv(\"product_details.csv\")"
   ]
  },
  {
   "cell_type": "code",
   "execution_count": 353,
   "metadata": {},
   "outputs": [
    {
     "data": {
      "text/plain": [
       "(205, 40)"
      ]
     },
     "execution_count": 353,
     "metadata": {},
     "output_type": "execute_result"
    }
   ],
   "source": [
    "df.shape"
   ]
  },
  {
   "cell_type": "code",
   "execution_count": 355,
   "metadata": {
    "scrolled": true
   },
   "outputs": [
    {
     "data": {
      "text/html": [
       "<div>\n",
       "<style scoped>\n",
       "    .dataframe tbody tr th:only-of-type {\n",
       "        vertical-align: middle;\n",
       "    }\n",
       "\n",
       "    .dataframe tbody tr th {\n",
       "        vertical-align: top;\n",
       "    }\n",
       "\n",
       "    .dataframe thead th {\n",
       "        text-align: right;\n",
       "    }\n",
       "</style>\n",
       "<table border=\"1\" class=\"dataframe\">\n",
       "  <thead>\n",
       "    <tr style=\"text-align: right;\">\n",
       "      <th></th>\n",
       "      <th>Product Title</th>\n",
       "      <th>Product Price</th>\n",
       "      <th>Warranty Period (Months)</th>\n",
       "      <th>Accesorises warranty</th>\n",
       "      <th>Warranted by</th>\n",
       "      <th>SKU</th>\n",
       "      <th>Manufacturer Number</th>\n",
       "      <th>processor type</th>\n",
       "      <th>NPU (Neural Processing Unit)</th>\n",
       "      <th>AI (Artificial Intelligence)</th>\n",
       "      <th>...</th>\n",
       "      <th>fingerprint</th>\n",
       "      <th>battery type</th>\n",
       "      <th>width</th>\n",
       "      <th>height/length</th>\n",
       "      <th>depth</th>\n",
       "      <th>weight</th>\n",
       "      <th>card reader</th>\n",
       "      <th>Shipping Weight (kg)</th>\n",
       "      <th>Renewed Grade</th>\n",
       "      <th>Renewed Remarks</th>\n",
       "    </tr>\n",
       "  </thead>\n",
       "  <tbody>\n",
       "    <tr>\n",
       "      <th>0</th>\n",
       "      <td>Huawei MateBook 14 Laptop</td>\n",
       "      <td>4,299</td>\n",
       "      <td>24.0</td>\n",
       "      <td>12 Months</td>\n",
       "      <td>Manufacturer</td>\n",
       "      <td>638525.0</td>\n",
       "      <td>53014ASK</td>\n",
       "      <td>Intel Core Ultra 5 125H</td>\n",
       "      <td>Intel AI Boost</td>\n",
       "      <td>Yes</td>\n",
       "      <td>...</td>\n",
       "      <td>Yes</td>\n",
       "      <td>Lithium Polymer (Li-Po)</td>\n",
       "      <td>312.60 mm ( 12.31 in )</td>\n",
       "      <td>226.80 mm ( 8.93 in )</td>\n",
       "      <td>15.90 mm ( .63 in )</td>\n",
       "      <td>1.31 kg ( 2.89 lb )</td>\n",
       "      <td>NaN</td>\n",
       "      <td>NaN</td>\n",
       "      <td>NaN</td>\n",
       "      <td>NaN</td>\n",
       "    </tr>\n",
       "    <tr>\n",
       "      <th>1</th>\n",
       "      <td>Apple MacBook Air 15 M3 Laptop</td>\n",
       "      <td>5,999</td>\n",
       "      <td>24.0</td>\n",
       "      <td>12 Months</td>\n",
       "      <td>Manufacturer</td>\n",
       "      <td>646475.0</td>\n",
       "      <td>MC9D4ABA</td>\n",
       "      <td>M3 8-core CPU</td>\n",
       "      <td>16-core Neural Engine</td>\n",
       "      <td>Yes</td>\n",
       "      <td>...</td>\n",
       "      <td>Yes</td>\n",
       "      <td>Lithium Polymer (Li-Po)</td>\n",
       "      <td>34.04 cm ( 13.40 in )</td>\n",
       "      <td>23.76 cm ( 9.35 in )</td>\n",
       "      <td>1.15 cm ( .45 in )</td>\n",
       "      <td>1.51 kg ( 3.33 lb )</td>\n",
       "      <td>NaN</td>\n",
       "      <td>NaN</td>\n",
       "      <td>NaN</td>\n",
       "      <td>NaN</td>\n",
       "    </tr>\n",
       "  </tbody>\n",
       "</table>\n",
       "<p>2 rows × 40 columns</p>\n",
       "</div>"
      ],
      "text/plain": [
       "                    Product Title Product Price  Warranty Period (Months)  \\\n",
       "0       Huawei MateBook 14 Laptop         4,299                      24.0   \n",
       "1  Apple MacBook Air 15 M3 Laptop         5,999                      24.0   \n",
       "\n",
       "  Accesorises warranty  Warranted by       SKU Manufacturer Number  \\\n",
       "0            12 Months  Manufacturer  638525.0            53014ASK   \n",
       "1            12 Months  Manufacturer  646475.0            MC9D4ABA   \n",
       "\n",
       "            processor type NPU (Neural Processing Unit)  \\\n",
       "0  Intel Core Ultra 5 125H               Intel AI Boost   \n",
       "1            M3 8-core CPU        16-core Neural Engine   \n",
       "\n",
       "  AI (Artificial Intelligence)  ... fingerprint             battery type  \\\n",
       "0                          Yes  ...         Yes  Lithium Polymer (Li-Po)   \n",
       "1                          Yes  ...         Yes  Lithium Polymer (Li-Po)   \n",
       "\n",
       "                    width          height/length                depth  \\\n",
       "0  312.60 mm ( 12.31 in )  226.80 mm ( 8.93 in )  15.90 mm ( .63 in )   \n",
       "1   34.04 cm ( 13.40 in )   23.76 cm ( 9.35 in )   1.15 cm ( .45 in )   \n",
       "\n",
       "                weight card reader  Shipping Weight (kg) Renewed Grade  \\\n",
       "0  1.31 kg ( 2.89 lb )         NaN                   NaN           NaN   \n",
       "1  1.51 kg ( 3.33 lb )         NaN                   NaN           NaN   \n",
       "\n",
       "  Renewed Remarks  \n",
       "0             NaN  \n",
       "1             NaN  \n",
       "\n",
       "[2 rows x 40 columns]"
      ]
     },
     "execution_count": 355,
     "metadata": {},
     "output_type": "execute_result"
    }
   ],
   "source": [
    "df.head(2)"
   ]
  },
  {
   "cell_type": "markdown",
   "metadata": {},
   "source": [
    "## Preprocess the Data"
   ]
  },
  {
   "cell_type": "markdown",
   "metadata": {},
   "source": [
    "#### 1. Simple EDA + Data Quality checking"
   ]
  },
  {
   "cell_type": "code",
   "execution_count": 358,
   "metadata": {},
   "outputs": [
    {
     "name": "stdout",
     "output_type": "stream",
     "text": [
      "<class 'pandas.core.frame.DataFrame'>\n",
      "RangeIndex: 205 entries, 0 to 204\n",
      "Data columns (total 40 columns):\n",
      " #   Column                         Non-Null Count  Dtype  \n",
      "---  ------                         --------------  -----  \n",
      " 0   Product Title                  205 non-null    object \n",
      " 1   Product Price                  205 non-null    object \n",
      " 2   Warranty Period (Months)       198 non-null    float64\n",
      " 3   Accesorises warranty           198 non-null    object \n",
      " 4   Warranted by                   198 non-null    object \n",
      " 5   SKU                            198 non-null    float64\n",
      " 6   Manufacturer Number            198 non-null    object \n",
      " 7   processor type                 198 non-null    object \n",
      " 8   NPU (Neural Processing Unit)   113 non-null    object \n",
      " 9   AI (Artificial Intelligence)   112 non-null    object \n",
      " 10  display type                   198 non-null    object \n",
      " 11  graphics card                  198 non-null    object \n",
      " 12  display size                   198 non-null    object \n",
      " 13  operating system               198 non-null    object \n",
      " 14  product type                   198 non-null    object \n",
      " 15  model/chipset number           83 non-null     object \n",
      " 16  model series                   198 non-null    object \n",
      " 17  generation/release             198 non-null    float64\n",
      " 18  color                          197 non-null    object \n",
      " 19  operating system architecture  98 non-null     object \n",
      " 20  processor speed                104 non-null    object \n",
      " 21  capacity                       198 non-null    object \n",
      " 22  RAM                            198 non-null    object \n",
      " 23  connectivity technology        198 non-null    object \n",
      " 24  ports                          196 non-null    object \n",
      " 25  touch display                  22 non-null     object \n",
      " 26  display resolution             198 non-null    object \n",
      " 27  cam resolution                 197 non-null    object \n",
      " 28  multimedia features            186 non-null    object \n",
      " 29  special features               77 non-null     object \n",
      " 30  fingerprint                    108 non-null    object \n",
      " 31  battery type                   198 non-null    object \n",
      " 32  width                          187 non-null    object \n",
      " 33  height/length                  187 non-null    object \n",
      " 34  depth                          187 non-null    object \n",
      " 35  weight                         198 non-null    object \n",
      " 36  card reader                    66 non-null     object \n",
      " 37  Shipping Weight (kg)           3 non-null      float64\n",
      " 38  Renewed Grade                  10 non-null     object \n",
      " 39  Renewed Remarks                10 non-null     float64\n",
      "dtypes: float64(5), object(35)\n",
      "memory usage: 64.2+ KB\n"
     ]
    }
   ],
   "source": [
    "df.info()"
   ]
  },
  {
   "cell_type": "code",
   "execution_count": 360,
   "metadata": {},
   "outputs": [
    {
     "data": {
      "text/plain": [
       "(205, 40)"
      ]
     },
     "execution_count": 360,
     "metadata": {},
     "output_type": "execute_result"
    }
   ],
   "source": [
    "df.shape"
   ]
  },
  {
   "cell_type": "markdown",
   "metadata": {},
   "source": [
    "- Uniqueness:"
   ]
  },
  {
   "cell_type": "code",
   "execution_count": 363,
   "metadata": {},
   "outputs": [
    {
     "data": {
      "text/plain": [
       "<bound method Series.sum of 0      False\n",
       "1      False\n",
       "2      False\n",
       "3      False\n",
       "4      False\n",
       "       ...  \n",
       "200    False\n",
       "201    False\n",
       "202    False\n",
       "203    False\n",
       "204    False\n",
       "Length: 205, dtype: bool>"
      ]
     },
     "execution_count": 363,
     "metadata": {},
     "output_type": "execute_result"
    }
   ],
   "source": [
    "df.duplicated().sum"
   ]
  },
  {
   "cell_type": "code",
   "execution_count": 365,
   "metadata": {},
   "outputs": [],
   "source": [
    "df.drop_duplicates(inplace = True)"
   ]
  },
  {
   "cell_type": "code",
   "execution_count": 367,
   "metadata": {},
   "outputs": [
    {
     "data": {
      "text/plain": [
       "(200, 40)"
      ]
     },
     "execution_count": 367,
     "metadata": {},
     "output_type": "execute_result"
    }
   ],
   "source": [
    "df.shape"
   ]
  },
  {
   "cell_type": "markdown",
   "metadata": {},
   "source": [
    "- Completeness"
   ]
  },
  {
   "cell_type": "code",
   "execution_count": 370,
   "metadata": {},
   "outputs": [
    {
     "data": {
      "text/html": [
       "<div>\n",
       "<style scoped>\n",
       "    .dataframe tbody tr th:only-of-type {\n",
       "        vertical-align: middle;\n",
       "    }\n",
       "\n",
       "    .dataframe tbody tr th {\n",
       "        vertical-align: top;\n",
       "    }\n",
       "\n",
       "    .dataframe thead th {\n",
       "        text-align: right;\n",
       "    }\n",
       "</style>\n",
       "<table border=\"1\" class=\"dataframe\">\n",
       "  <thead>\n",
       "    <tr style=\"text-align: right;\">\n",
       "      <th></th>\n",
       "      <th>Product Title</th>\n",
       "      <th>Product Price</th>\n",
       "      <th>Warranty Period (Months)</th>\n",
       "      <th>Accesorises warranty</th>\n",
       "      <th>Warranted by</th>\n",
       "      <th>SKU</th>\n",
       "      <th>Manufacturer Number</th>\n",
       "      <th>processor type</th>\n",
       "      <th>NPU (Neural Processing Unit)</th>\n",
       "      <th>AI (Artificial Intelligence)</th>\n",
       "      <th>...</th>\n",
       "      <th>fingerprint</th>\n",
       "      <th>battery type</th>\n",
       "      <th>width</th>\n",
       "      <th>height/length</th>\n",
       "      <th>depth</th>\n",
       "      <th>weight</th>\n",
       "      <th>card reader</th>\n",
       "      <th>Shipping Weight (kg)</th>\n",
       "      <th>Renewed Grade</th>\n",
       "      <th>Renewed Remarks</th>\n",
       "    </tr>\n",
       "  </thead>\n",
       "  <tbody>\n",
       "    <tr>\n",
       "      <th>111</th>\n",
       "      <td>Not available</td>\n",
       "      <td>Not available</td>\n",
       "      <td>NaN</td>\n",
       "      <td>NaN</td>\n",
       "      <td>NaN</td>\n",
       "      <td>NaN</td>\n",
       "      <td>NaN</td>\n",
       "      <td>NaN</td>\n",
       "      <td>NaN</td>\n",
       "      <td>NaN</td>\n",
       "      <td>...</td>\n",
       "      <td>NaN</td>\n",
       "      <td>NaN</td>\n",
       "      <td>NaN</td>\n",
       "      <td>NaN</td>\n",
       "      <td>NaN</td>\n",
       "      <td>NaN</td>\n",
       "      <td>NaN</td>\n",
       "      <td>NaN</td>\n",
       "      <td>NaN</td>\n",
       "      <td>NaN</td>\n",
       "    </tr>\n",
       "    <tr>\n",
       "      <th>122</th>\n",
       "      <td>Not available</td>\n",
       "      <td>689</td>\n",
       "      <td>NaN</td>\n",
       "      <td>NaN</td>\n",
       "      <td>NaN</td>\n",
       "      <td>NaN</td>\n",
       "      <td>NaN</td>\n",
       "      <td>NaN</td>\n",
       "      <td>NaN</td>\n",
       "      <td>NaN</td>\n",
       "      <td>...</td>\n",
       "      <td>NaN</td>\n",
       "      <td>NaN</td>\n",
       "      <td>NaN</td>\n",
       "      <td>NaN</td>\n",
       "      <td>NaN</td>\n",
       "      <td>NaN</td>\n",
       "      <td>NaN</td>\n",
       "      <td>NaN</td>\n",
       "      <td>NaN</td>\n",
       "      <td>NaN</td>\n",
       "    </tr>\n",
       "  </tbody>\n",
       "</table>\n",
       "<p>2 rows × 40 columns</p>\n",
       "</div>"
      ],
      "text/plain": [
       "     Product Title  Product Price  Warranty Period (Months)  \\\n",
       "111  Not available  Not available                       NaN   \n",
       "122  Not available            689                       NaN   \n",
       "\n",
       "    Accesorises warranty Warranted by  SKU Manufacturer Number processor type  \\\n",
       "111                  NaN          NaN  NaN                 NaN            NaN   \n",
       "122                  NaN          NaN  NaN                 NaN            NaN   \n",
       "\n",
       "    NPU (Neural Processing Unit) AI (Artificial Intelligence)  ...  \\\n",
       "111                          NaN                          NaN  ...   \n",
       "122                          NaN                          NaN  ...   \n",
       "\n",
       "    fingerprint battery type width height/length depth weight card reader  \\\n",
       "111         NaN          NaN   NaN           NaN   NaN    NaN         NaN   \n",
       "122         NaN          NaN   NaN           NaN   NaN    NaN         NaN   \n",
       "\n",
       "     Shipping Weight (kg) Renewed Grade Renewed Remarks  \n",
       "111                   NaN           NaN             NaN  \n",
       "122                   NaN           NaN             NaN  \n",
       "\n",
       "[2 rows x 40 columns]"
      ]
     },
     "execution_count": 370,
     "metadata": {},
     "output_type": "execute_result"
    }
   ],
   "source": [
    "# Filtering and displaying rows where 'Product Title' contains \"Not available\"\n",
    "not_available_rows = df[df['Product Title'].str.contains(\"Not available\", na=False)]\n",
    "\n",
    "not_available_rows"
   ]
  },
  {
   "cell_type": "code",
   "execution_count": 372,
   "metadata": {},
   "outputs": [
    {
     "data": {
      "text/plain": [
       "0      False\n",
       "1      False\n",
       "2      False\n",
       "3      False\n",
       "4      False\n",
       "       ...  \n",
       "200    False\n",
       "201    False\n",
       "202    False\n",
       "203    False\n",
       "204    False\n",
       "Name: Product Title, Length: 200, dtype: bool"
      ]
     },
     "execution_count": 372,
     "metadata": {},
     "output_type": "execute_result"
    }
   ],
   "source": [
    "df['Product Title'].str.contains(\"Not available\", na=False)"
   ]
  },
  {
   "cell_type": "code",
   "execution_count": 374,
   "metadata": {},
   "outputs": [
    {
     "data": {
      "text/plain": [
       "(200, 40)"
      ]
     },
     "execution_count": 374,
     "metadata": {},
     "output_type": "execute_result"
    }
   ],
   "source": [
    "df.shape"
   ]
  },
  {
   "cell_type": "code",
   "execution_count": 376,
   "metadata": {},
   "outputs": [
    {
     "data": {
      "text/html": [
       "<div>\n",
       "<style scoped>\n",
       "    .dataframe tbody tr th:only-of-type {\n",
       "        vertical-align: middle;\n",
       "    }\n",
       "\n",
       "    .dataframe tbody tr th {\n",
       "        vertical-align: top;\n",
       "    }\n",
       "\n",
       "    .dataframe thead th {\n",
       "        text-align: right;\n",
       "    }\n",
       "</style>\n",
       "<table border=\"1\" class=\"dataframe\">\n",
       "  <thead>\n",
       "    <tr style=\"text-align: right;\">\n",
       "      <th></th>\n",
       "      <th>Product Title</th>\n",
       "      <th>Product Price</th>\n",
       "      <th>Warranty Period (Months)</th>\n",
       "      <th>Accesorises warranty</th>\n",
       "      <th>Warranted by</th>\n",
       "      <th>SKU</th>\n",
       "      <th>Manufacturer Number</th>\n",
       "      <th>processor type</th>\n",
       "      <th>NPU (Neural Processing Unit)</th>\n",
       "      <th>AI (Artificial Intelligence)</th>\n",
       "      <th>...</th>\n",
       "      <th>fingerprint</th>\n",
       "      <th>battery type</th>\n",
       "      <th>width</th>\n",
       "      <th>height/length</th>\n",
       "      <th>depth</th>\n",
       "      <th>weight</th>\n",
       "      <th>card reader</th>\n",
       "      <th>Shipping Weight (kg)</th>\n",
       "      <th>Renewed Grade</th>\n",
       "      <th>Renewed Remarks</th>\n",
       "    </tr>\n",
       "  </thead>\n",
       "  <tbody>\n",
       "    <tr>\n",
       "      <th>0</th>\n",
       "      <td>Huawei MateBook 14 Laptop</td>\n",
       "      <td>4,299</td>\n",
       "      <td>24.0</td>\n",
       "      <td>12 Months</td>\n",
       "      <td>Manufacturer</td>\n",
       "      <td>638525.0</td>\n",
       "      <td>53014ASK</td>\n",
       "      <td>Intel Core Ultra 5 125H</td>\n",
       "      <td>Intel AI Boost</td>\n",
       "      <td>Yes</td>\n",
       "      <td>...</td>\n",
       "      <td>Yes</td>\n",
       "      <td>Lithium Polymer (Li-Po)</td>\n",
       "      <td>312.60 mm ( 12.31 in )</td>\n",
       "      <td>226.80 mm ( 8.93 in )</td>\n",
       "      <td>15.90 mm ( .63 in )</td>\n",
       "      <td>1.31 kg ( 2.89 lb )</td>\n",
       "      <td>NaN</td>\n",
       "      <td>NaN</td>\n",
       "      <td>NaN</td>\n",
       "      <td>NaN</td>\n",
       "    </tr>\n",
       "    <tr>\n",
       "      <th>1</th>\n",
       "      <td>Apple MacBook Air 15 M3 Laptop</td>\n",
       "      <td>5,999</td>\n",
       "      <td>24.0</td>\n",
       "      <td>12 Months</td>\n",
       "      <td>Manufacturer</td>\n",
       "      <td>646475.0</td>\n",
       "      <td>MC9D4ABA</td>\n",
       "      <td>M3 8-core CPU</td>\n",
       "      <td>16-core Neural Engine</td>\n",
       "      <td>Yes</td>\n",
       "      <td>...</td>\n",
       "      <td>Yes</td>\n",
       "      <td>Lithium Polymer (Li-Po)</td>\n",
       "      <td>34.04 cm ( 13.40 in )</td>\n",
       "      <td>23.76 cm ( 9.35 in )</td>\n",
       "      <td>1.15 cm ( .45 in )</td>\n",
       "      <td>1.51 kg ( 3.33 lb )</td>\n",
       "      <td>NaN</td>\n",
       "      <td>NaN</td>\n",
       "      <td>NaN</td>\n",
       "      <td>NaN</td>\n",
       "    </tr>\n",
       "    <tr>\n",
       "      <th>2</th>\n",
       "      <td>Apple MacBook Air 15 M3 Laptop</td>\n",
       "      <td>5,999</td>\n",
       "      <td>24.0</td>\n",
       "      <td>12 Months</td>\n",
       "      <td>Manufacturer</td>\n",
       "      <td>632673.0</td>\n",
       "      <td>MRYR3ABA</td>\n",
       "      <td>M3 8-core CPU</td>\n",
       "      <td>16-core Neural Engine</td>\n",
       "      <td>Yes</td>\n",
       "      <td>...</td>\n",
       "      <td>Yes</td>\n",
       "      <td>Lithium Polymer (Li-Po)</td>\n",
       "      <td>34.04 cm ( 13.40 in )</td>\n",
       "      <td>23.76 cm ( 9.35 in )</td>\n",
       "      <td>1.15 cm ( .45 in )</td>\n",
       "      <td>1.51 kg ( 3.33 lb )</td>\n",
       "      <td>NaN</td>\n",
       "      <td>NaN</td>\n",
       "      <td>NaN</td>\n",
       "      <td>NaN</td>\n",
       "    </tr>\n",
       "    <tr>\n",
       "      <th>3</th>\n",
       "      <td>Asus Laptop</td>\n",
       "      <td>3,799</td>\n",
       "      <td>24.0</td>\n",
       "      <td>12 Months</td>\n",
       "      <td>Manufacturer</td>\n",
       "      <td>642879.0</td>\n",
       "      <td>UM3406OLEDR7W</td>\n",
       "      <td>AMD Ryzen 7-8840HS</td>\n",
       "      <td>AMD XDNA up to 16 TOPS</td>\n",
       "      <td>Yes</td>\n",
       "      <td>...</td>\n",
       "      <td>Yes</td>\n",
       "      <td>Lithium Ion (Li-Ion) - 4 Cell</td>\n",
       "      <td>32.24 cm ( 12.69 in )</td>\n",
       "      <td>22.01 cm ( 8.67 in )</td>\n",
       "      <td>1.49 cm ( .59 in )</td>\n",
       "      <td>1.20 kg ( 2.65 lb )</td>\n",
       "      <td>Yes</td>\n",
       "      <td>NaN</td>\n",
       "      <td>NaN</td>\n",
       "      <td>NaN</td>\n",
       "    </tr>\n",
       "    <tr>\n",
       "      <th>4</th>\n",
       "      <td>Microsoft Surface Laptop 7 Laptop</td>\n",
       "      <td>9,699</td>\n",
       "      <td>24.0</td>\n",
       "      <td>Not Applicable</td>\n",
       "      <td>JARIR</td>\n",
       "      <td>639206.0</td>\n",
       "      <td>ZHI00014</td>\n",
       "      <td>Snapdragon X Elite 12 Core</td>\n",
       "      <td>Qualcomm Hexagon NPU 45 TOPS</td>\n",
       "      <td>Yes</td>\n",
       "      <td>...</td>\n",
       "      <td>NaN</td>\n",
       "      <td>Lithium Ion (Li-Ion) - 6 Cell</td>\n",
       "      <td>32.90 cm ( 12.95 in )</td>\n",
       "      <td>23.90 cm ( 9.41 in )</td>\n",
       "      <td>1.80 cm ( .71 in )</td>\n",
       "      <td>1.60 kg ( 3.53 lb )</td>\n",
       "      <td>NaN</td>\n",
       "      <td>NaN</td>\n",
       "      <td>NaN</td>\n",
       "      <td>NaN</td>\n",
       "    </tr>\n",
       "  </tbody>\n",
       "</table>\n",
       "<p>5 rows × 40 columns</p>\n",
       "</div>"
      ],
      "text/plain": [
       "                       Product Title Product Price  Warranty Period (Months)  \\\n",
       "0          Huawei MateBook 14 Laptop         4,299                      24.0   \n",
       "1     Apple MacBook Air 15 M3 Laptop         5,999                      24.0   \n",
       "2     Apple MacBook Air 15 M3 Laptop         5,999                      24.0   \n",
       "3                        Asus Laptop         3,799                      24.0   \n",
       "4  Microsoft Surface Laptop 7 Laptop         9,699                      24.0   \n",
       "\n",
       "  Accesorises warranty  Warranted by       SKU Manufacturer Number  \\\n",
       "0            12 Months  Manufacturer  638525.0            53014ASK   \n",
       "1            12 Months  Manufacturer  646475.0            MC9D4ABA   \n",
       "2            12 Months  Manufacturer  632673.0            MRYR3ABA   \n",
       "3            12 Months  Manufacturer  642879.0       UM3406OLEDR7W   \n",
       "4       Not Applicable         JARIR  639206.0            ZHI00014   \n",
       "\n",
       "               processor type  NPU (Neural Processing Unit)  \\\n",
       "0     Intel Core Ultra 5 125H                Intel AI Boost   \n",
       "1               M3 8-core CPU         16-core Neural Engine   \n",
       "2               M3 8-core CPU         16-core Neural Engine   \n",
       "3          AMD Ryzen 7-8840HS        AMD XDNA up to 16 TOPS   \n",
       "4  Snapdragon X Elite 12 Core  Qualcomm Hexagon NPU 45 TOPS   \n",
       "\n",
       "  AI (Artificial Intelligence)  ... fingerprint  \\\n",
       "0                          Yes  ...         Yes   \n",
       "1                          Yes  ...         Yes   \n",
       "2                          Yes  ...         Yes   \n",
       "3                          Yes  ...         Yes   \n",
       "4                          Yes  ...         NaN   \n",
       "\n",
       "                    battery type                   width  \\\n",
       "0        Lithium Polymer (Li-Po)  312.60 mm ( 12.31 in )   \n",
       "1        Lithium Polymer (Li-Po)   34.04 cm ( 13.40 in )   \n",
       "2        Lithium Polymer (Li-Po)   34.04 cm ( 13.40 in )   \n",
       "3  Lithium Ion (Li-Ion) - 4 Cell   32.24 cm ( 12.69 in )   \n",
       "4  Lithium Ion (Li-Ion) - 6 Cell   32.90 cm ( 12.95 in )   \n",
       "\n",
       "           height/length                depth               weight  \\\n",
       "0  226.80 mm ( 8.93 in )  15.90 mm ( .63 in )  1.31 kg ( 2.89 lb )   \n",
       "1   23.76 cm ( 9.35 in )   1.15 cm ( .45 in )  1.51 kg ( 3.33 lb )   \n",
       "2   23.76 cm ( 9.35 in )   1.15 cm ( .45 in )  1.51 kg ( 3.33 lb )   \n",
       "3   22.01 cm ( 8.67 in )   1.49 cm ( .59 in )  1.20 kg ( 2.65 lb )   \n",
       "4   23.90 cm ( 9.41 in )   1.80 cm ( .71 in )  1.60 kg ( 3.53 lb )   \n",
       "\n",
       "  card reader  Shipping Weight (kg) Renewed Grade Renewed Remarks  \n",
       "0         NaN                   NaN           NaN             NaN  \n",
       "1         NaN                   NaN           NaN             NaN  \n",
       "2         NaN                   NaN           NaN             NaN  \n",
       "3         Yes                   NaN           NaN             NaN  \n",
       "4         NaN                   NaN           NaN             NaN  \n",
       "\n",
       "[5 rows x 40 columns]"
      ]
     },
     "execution_count": 376,
     "metadata": {},
     "output_type": "execute_result"
    }
   ],
   "source": [
    "# Remove rows where 'Product Title' contains \"Not available\"\n",
    "df = df[~df['Product Title'].str.contains(\"Not available\", na=False)]\n",
    "\n",
    "# Display the first few rows of the updated 'df' to confirm the change\n",
    "df.head()"
   ]
  },
  {
   "cell_type": "code",
   "execution_count": 378,
   "metadata": {},
   "outputs": [
    {
     "data": {
      "text/plain": [
       "Product Title                      0\n",
       "Product Price                      0\n",
       "Warranty Period (Months)           0\n",
       "Accesorises warranty               0\n",
       "Warranted by                       0\n",
       "SKU                                0\n",
       "Manufacturer Number                0\n",
       "processor type                     0\n",
       "NPU (Neural Processing Unit)      85\n",
       "AI (Artificial Intelligence)      86\n",
       "display type                       0\n",
       "graphics card                      0\n",
       "display size                       0\n",
       "operating system                   0\n",
       "product type                       0\n",
       "model/chipset number             115\n",
       "model series                       0\n",
       "generation/release                 0\n",
       "color                              1\n",
       "operating system architecture    100\n",
       "processor speed                   94\n",
       "capacity                           0\n",
       "RAM                                0\n",
       "connectivity technology            0\n",
       "ports                              2\n",
       "touch display                    176\n",
       "display resolution                 0\n",
       "cam resolution                     1\n",
       "multimedia features               12\n",
       "special features                 121\n",
       "fingerprint                       90\n",
       "battery type                       0\n",
       "width                             11\n",
       "height/length                     11\n",
       "depth                             11\n",
       "weight                             0\n",
       "card reader                      132\n",
       "Shipping Weight (kg)             195\n",
       "Renewed Grade                    188\n",
       "Renewed Remarks                  188\n",
       "dtype: int64"
      ]
     },
     "execution_count": 378,
     "metadata": {},
     "output_type": "execute_result"
    }
   ],
   "source": [
    "df.isnull().sum()"
   ]
  },
  {
   "cell_type": "code",
   "execution_count": 380,
   "metadata": {},
   "outputs": [
    {
     "data": {
      "text/html": [
       "<div>\n",
       "<style scoped>\n",
       "    .dataframe tbody tr th:only-of-type {\n",
       "        vertical-align: middle;\n",
       "    }\n",
       "\n",
       "    .dataframe tbody tr th {\n",
       "        vertical-align: top;\n",
       "    }\n",
       "\n",
       "    .dataframe thead th {\n",
       "        text-align: right;\n",
       "    }\n",
       "</style>\n",
       "<table border=\"1\" class=\"dataframe\">\n",
       "  <thead>\n",
       "    <tr style=\"text-align: right;\">\n",
       "      <th></th>\n",
       "      <th>Product Title</th>\n",
       "      <th>Product Price</th>\n",
       "      <th>Warranty Period (Months)</th>\n",
       "      <th>Accesorises warranty</th>\n",
       "      <th>Warranted by</th>\n",
       "      <th>SKU</th>\n",
       "      <th>Manufacturer Number</th>\n",
       "      <th>processor type</th>\n",
       "      <th>NPU (Neural Processing Unit)</th>\n",
       "      <th>AI (Artificial Intelligence)</th>\n",
       "      <th>...</th>\n",
       "      <th>fingerprint</th>\n",
       "      <th>battery type</th>\n",
       "      <th>width</th>\n",
       "      <th>height/length</th>\n",
       "      <th>depth</th>\n",
       "      <th>weight</th>\n",
       "      <th>card reader</th>\n",
       "      <th>Shipping Weight (kg)</th>\n",
       "      <th>Renewed Grade</th>\n",
       "      <th>Renewed Remarks</th>\n",
       "    </tr>\n",
       "  </thead>\n",
       "  <tbody>\n",
       "    <tr>\n",
       "      <th>0</th>\n",
       "      <td>Huawei MateBook 14 Laptop</td>\n",
       "      <td>4299</td>\n",
       "      <td>24.0</td>\n",
       "      <td>12 Months</td>\n",
       "      <td>Manufacturer</td>\n",
       "      <td>638525.0</td>\n",
       "      <td>53014ASK</td>\n",
       "      <td>Intel Core Ultra 5 125H</td>\n",
       "      <td>Intel AI Boost</td>\n",
       "      <td>Yes</td>\n",
       "      <td>...</td>\n",
       "      <td>Yes</td>\n",
       "      <td>Lithium Polymer (Li-Po)</td>\n",
       "      <td>312.60 mm ( 12.31 in )</td>\n",
       "      <td>226.80 mm ( 8.93 in )</td>\n",
       "      <td>15.90 mm ( .63 in )</td>\n",
       "      <td>1.31 kg ( 2.89 lb )</td>\n",
       "      <td>NaN</td>\n",
       "      <td>NaN</td>\n",
       "      <td>NaN</td>\n",
       "      <td>NaN</td>\n",
       "    </tr>\n",
       "    <tr>\n",
       "      <th>1</th>\n",
       "      <td>Apple MacBook Air 15 M3 Laptop</td>\n",
       "      <td>5999</td>\n",
       "      <td>24.0</td>\n",
       "      <td>12 Months</td>\n",
       "      <td>Manufacturer</td>\n",
       "      <td>646475.0</td>\n",
       "      <td>MC9D4ABA</td>\n",
       "      <td>M3 8-core CPU</td>\n",
       "      <td>16-core Neural Engine</td>\n",
       "      <td>Yes</td>\n",
       "      <td>...</td>\n",
       "      <td>Yes</td>\n",
       "      <td>Lithium Polymer (Li-Po)</td>\n",
       "      <td>34.04 cm ( 13.40 in )</td>\n",
       "      <td>23.76 cm ( 9.35 in )</td>\n",
       "      <td>1.15 cm ( .45 in )</td>\n",
       "      <td>1.51 kg ( 3.33 lb )</td>\n",
       "      <td>NaN</td>\n",
       "      <td>NaN</td>\n",
       "      <td>NaN</td>\n",
       "      <td>NaN</td>\n",
       "    </tr>\n",
       "    <tr>\n",
       "      <th>2</th>\n",
       "      <td>Apple MacBook Air 15 M3 Laptop</td>\n",
       "      <td>5999</td>\n",
       "      <td>24.0</td>\n",
       "      <td>12 Months</td>\n",
       "      <td>Manufacturer</td>\n",
       "      <td>632673.0</td>\n",
       "      <td>MRYR3ABA</td>\n",
       "      <td>M3 8-core CPU</td>\n",
       "      <td>16-core Neural Engine</td>\n",
       "      <td>Yes</td>\n",
       "      <td>...</td>\n",
       "      <td>Yes</td>\n",
       "      <td>Lithium Polymer (Li-Po)</td>\n",
       "      <td>34.04 cm ( 13.40 in )</td>\n",
       "      <td>23.76 cm ( 9.35 in )</td>\n",
       "      <td>1.15 cm ( .45 in )</td>\n",
       "      <td>1.51 kg ( 3.33 lb )</td>\n",
       "      <td>NaN</td>\n",
       "      <td>NaN</td>\n",
       "      <td>NaN</td>\n",
       "      <td>NaN</td>\n",
       "    </tr>\n",
       "    <tr>\n",
       "      <th>3</th>\n",
       "      <td>Asus Laptop</td>\n",
       "      <td>3799</td>\n",
       "      <td>24.0</td>\n",
       "      <td>12 Months</td>\n",
       "      <td>Manufacturer</td>\n",
       "      <td>642879.0</td>\n",
       "      <td>UM3406OLEDR7W</td>\n",
       "      <td>AMD Ryzen 7-8840HS</td>\n",
       "      <td>AMD XDNA up to 16 TOPS</td>\n",
       "      <td>Yes</td>\n",
       "      <td>...</td>\n",
       "      <td>Yes</td>\n",
       "      <td>Lithium Ion (Li-Ion) - 4 Cell</td>\n",
       "      <td>32.24 cm ( 12.69 in )</td>\n",
       "      <td>22.01 cm ( 8.67 in )</td>\n",
       "      <td>1.49 cm ( .59 in )</td>\n",
       "      <td>1.20 kg ( 2.65 lb )</td>\n",
       "      <td>Yes</td>\n",
       "      <td>NaN</td>\n",
       "      <td>NaN</td>\n",
       "      <td>NaN</td>\n",
       "    </tr>\n",
       "    <tr>\n",
       "      <th>4</th>\n",
       "      <td>Microsoft Surface Laptop 7 Laptop</td>\n",
       "      <td>9699</td>\n",
       "      <td>24.0</td>\n",
       "      <td>Not Applicable</td>\n",
       "      <td>JARIR</td>\n",
       "      <td>639206.0</td>\n",
       "      <td>ZHI00014</td>\n",
       "      <td>Snapdragon X Elite 12 Core</td>\n",
       "      <td>Qualcomm Hexagon NPU 45 TOPS</td>\n",
       "      <td>Yes</td>\n",
       "      <td>...</td>\n",
       "      <td>NaN</td>\n",
       "      <td>Lithium Ion (Li-Ion) - 6 Cell</td>\n",
       "      <td>32.90 cm ( 12.95 in )</td>\n",
       "      <td>23.90 cm ( 9.41 in )</td>\n",
       "      <td>1.80 cm ( .71 in )</td>\n",
       "      <td>1.60 kg ( 3.53 lb )</td>\n",
       "      <td>NaN</td>\n",
       "      <td>NaN</td>\n",
       "      <td>NaN</td>\n",
       "      <td>NaN</td>\n",
       "    </tr>\n",
       "  </tbody>\n",
       "</table>\n",
       "<p>5 rows × 40 columns</p>\n",
       "</div>"
      ],
      "text/plain": [
       "                       Product Title  Product Price  Warranty Period (Months)  \\\n",
       "0          Huawei MateBook 14 Laptop           4299                      24.0   \n",
       "1     Apple MacBook Air 15 M3 Laptop           5999                      24.0   \n",
       "2     Apple MacBook Air 15 M3 Laptop           5999                      24.0   \n",
       "3                        Asus Laptop           3799                      24.0   \n",
       "4  Microsoft Surface Laptop 7 Laptop           9699                      24.0   \n",
       "\n",
       "  Accesorises warranty  Warranted by       SKU Manufacturer Number  \\\n",
       "0            12 Months  Manufacturer  638525.0            53014ASK   \n",
       "1            12 Months  Manufacturer  646475.0            MC9D4ABA   \n",
       "2            12 Months  Manufacturer  632673.0            MRYR3ABA   \n",
       "3            12 Months  Manufacturer  642879.0       UM3406OLEDR7W   \n",
       "4       Not Applicable         JARIR  639206.0            ZHI00014   \n",
       "\n",
       "               processor type  NPU (Neural Processing Unit)  \\\n",
       "0     Intel Core Ultra 5 125H                Intel AI Boost   \n",
       "1               M3 8-core CPU         16-core Neural Engine   \n",
       "2               M3 8-core CPU         16-core Neural Engine   \n",
       "3          AMD Ryzen 7-8840HS        AMD XDNA up to 16 TOPS   \n",
       "4  Snapdragon X Elite 12 Core  Qualcomm Hexagon NPU 45 TOPS   \n",
       "\n",
       "  AI (Artificial Intelligence)  ... fingerprint  \\\n",
       "0                          Yes  ...         Yes   \n",
       "1                          Yes  ...         Yes   \n",
       "2                          Yes  ...         Yes   \n",
       "3                          Yes  ...         Yes   \n",
       "4                          Yes  ...         NaN   \n",
       "\n",
       "                    battery type                   width  \\\n",
       "0        Lithium Polymer (Li-Po)  312.60 mm ( 12.31 in )   \n",
       "1        Lithium Polymer (Li-Po)   34.04 cm ( 13.40 in )   \n",
       "2        Lithium Polymer (Li-Po)   34.04 cm ( 13.40 in )   \n",
       "3  Lithium Ion (Li-Ion) - 4 Cell   32.24 cm ( 12.69 in )   \n",
       "4  Lithium Ion (Li-Ion) - 6 Cell   32.90 cm ( 12.95 in )   \n",
       "\n",
       "           height/length                depth               weight  \\\n",
       "0  226.80 mm ( 8.93 in )  15.90 mm ( .63 in )  1.31 kg ( 2.89 lb )   \n",
       "1   23.76 cm ( 9.35 in )   1.15 cm ( .45 in )  1.51 kg ( 3.33 lb )   \n",
       "2   23.76 cm ( 9.35 in )   1.15 cm ( .45 in )  1.51 kg ( 3.33 lb )   \n",
       "3   22.01 cm ( 8.67 in )   1.49 cm ( .59 in )  1.20 kg ( 2.65 lb )   \n",
       "4   23.90 cm ( 9.41 in )   1.80 cm ( .71 in )  1.60 kg ( 3.53 lb )   \n",
       "\n",
       "  card reader  Shipping Weight (kg) Renewed Grade Renewed Remarks  \n",
       "0         NaN                   NaN           NaN             NaN  \n",
       "1         NaN                   NaN           NaN             NaN  \n",
       "2         NaN                   NaN           NaN             NaN  \n",
       "3         Yes                   NaN           NaN             NaN  \n",
       "4         NaN                   NaN           NaN             NaN  \n",
       "\n",
       "[5 rows x 40 columns]"
      ]
     },
     "execution_count": 380,
     "metadata": {},
     "output_type": "execute_result"
    }
   ],
   "source": [
    "# Replacing 'Not available' with NaN, then removing commas and converting to float\n",
    "df['Product Price'] = pd.to_numeric(df['Product Price'].str.replace('٫', '').str.replace(',', ''), errors='coerce')\n",
    "\n",
    "# Displaying the first few rows to confirm the change\n",
    "df.head()\n"
   ]
  },
  {
   "cell_type": "code",
   "execution_count": 386,
   "metadata": {},
   "outputs": [
    {
     "data": {
      "text/plain": [
       "0      4299\n",
       "1      5999\n",
       "2      5999\n",
       "3      3799\n",
       "4      9699\n",
       "       ... \n",
       "200    5199\n",
       "201    5029\n",
       "202    2799\n",
       "203    2499\n",
       "204    5799\n",
       "Name: Product Price, Length: 198, dtype: int64"
      ]
     },
     "execution_count": 386,
     "metadata": {},
     "output_type": "execute_result"
    }
   ],
   "source": [
    "df['Product Price']"
   ]
  },
  {
   "cell_type": "code",
   "execution_count": 382,
   "metadata": {},
   "outputs": [
    {
     "data": {
      "text/html": [
       "<div>\n",
       "<style scoped>\n",
       "    .dataframe tbody tr th:only-of-type {\n",
       "        vertical-align: middle;\n",
       "    }\n",
       "\n",
       "    .dataframe tbody tr th {\n",
       "        vertical-align: top;\n",
       "    }\n",
       "\n",
       "    .dataframe thead th {\n",
       "        text-align: right;\n",
       "    }\n",
       "</style>\n",
       "<table border=\"1\" class=\"dataframe\">\n",
       "  <thead>\n",
       "    <tr style=\"text-align: right;\">\n",
       "      <th></th>\n",
       "      <th>Product Title</th>\n",
       "      <th>Product Price</th>\n",
       "      <th>Warranty Period (Months)</th>\n",
       "      <th>Accesorises warranty</th>\n",
       "      <th>Warranted by</th>\n",
       "      <th>SKU</th>\n",
       "      <th>Manufacturer Number</th>\n",
       "      <th>processor type</th>\n",
       "      <th>NPU (Neural Processing Unit)</th>\n",
       "      <th>AI (Artificial Intelligence)</th>\n",
       "      <th>...</th>\n",
       "      <th>fingerprint</th>\n",
       "      <th>battery type</th>\n",
       "      <th>width</th>\n",
       "      <th>height/length</th>\n",
       "      <th>depth</th>\n",
       "      <th>weight</th>\n",
       "      <th>card reader</th>\n",
       "      <th>Shipping Weight (kg)</th>\n",
       "      <th>Renewed Grade</th>\n",
       "      <th>Renewed Remarks</th>\n",
       "    </tr>\n",
       "  </thead>\n",
       "  <tbody>\n",
       "    <tr>\n",
       "      <th>0</th>\n",
       "      <td>Huawei MateBook 14 Laptop</td>\n",
       "      <td>4299</td>\n",
       "      <td>24.0</td>\n",
       "      <td>12 Months</td>\n",
       "      <td>Manufacturer</td>\n",
       "      <td>638525.0</td>\n",
       "      <td>53014ASK</td>\n",
       "      <td>Intel Core Ultra 5 125H</td>\n",
       "      <td>Intel AI Boost</td>\n",
       "      <td>Yes</td>\n",
       "      <td>...</td>\n",
       "      <td>Yes</td>\n",
       "      <td>Lithium Polymer (Li-Po)</td>\n",
       "      <td>312.60 mm ( 12.31 in )</td>\n",
       "      <td>226.80 mm ( 8.93 in )</td>\n",
       "      <td>15.90 mm ( .63 in )</td>\n",
       "      <td>1.31 kg ( 2.89 lb )</td>\n",
       "      <td>NaN</td>\n",
       "      <td>NaN</td>\n",
       "      <td>NaN</td>\n",
       "      <td>NaN</td>\n",
       "    </tr>\n",
       "    <tr>\n",
       "      <th>1</th>\n",
       "      <td>Apple MacBook Air 15 M3 Laptop</td>\n",
       "      <td>5999</td>\n",
       "      <td>24.0</td>\n",
       "      <td>12 Months</td>\n",
       "      <td>Manufacturer</td>\n",
       "      <td>646475.0</td>\n",
       "      <td>MC9D4ABA</td>\n",
       "      <td>M3 8-core CPU</td>\n",
       "      <td>16-core Neural Engine</td>\n",
       "      <td>Yes</td>\n",
       "      <td>...</td>\n",
       "      <td>Yes</td>\n",
       "      <td>Lithium Polymer (Li-Po)</td>\n",
       "      <td>34.04 cm ( 13.40 in )</td>\n",
       "      <td>23.76 cm ( 9.35 in )</td>\n",
       "      <td>1.15 cm ( .45 in )</td>\n",
       "      <td>1.51 kg ( 3.33 lb )</td>\n",
       "      <td>NaN</td>\n",
       "      <td>NaN</td>\n",
       "      <td>NaN</td>\n",
       "      <td>NaN</td>\n",
       "    </tr>\n",
       "    <tr>\n",
       "      <th>2</th>\n",
       "      <td>Apple MacBook Air 15 M3 Laptop</td>\n",
       "      <td>5999</td>\n",
       "      <td>24.0</td>\n",
       "      <td>12 Months</td>\n",
       "      <td>Manufacturer</td>\n",
       "      <td>632673.0</td>\n",
       "      <td>MRYR3ABA</td>\n",
       "      <td>M3 8-core CPU</td>\n",
       "      <td>16-core Neural Engine</td>\n",
       "      <td>Yes</td>\n",
       "      <td>...</td>\n",
       "      <td>Yes</td>\n",
       "      <td>Lithium Polymer (Li-Po)</td>\n",
       "      <td>34.04 cm ( 13.40 in )</td>\n",
       "      <td>23.76 cm ( 9.35 in )</td>\n",
       "      <td>1.15 cm ( .45 in )</td>\n",
       "      <td>1.51 kg ( 3.33 lb )</td>\n",
       "      <td>NaN</td>\n",
       "      <td>NaN</td>\n",
       "      <td>NaN</td>\n",
       "      <td>NaN</td>\n",
       "    </tr>\n",
       "    <tr>\n",
       "      <th>3</th>\n",
       "      <td>Asus Laptop</td>\n",
       "      <td>3799</td>\n",
       "      <td>24.0</td>\n",
       "      <td>12 Months</td>\n",
       "      <td>Manufacturer</td>\n",
       "      <td>642879.0</td>\n",
       "      <td>UM3406OLEDR7W</td>\n",
       "      <td>AMD Ryzen 7-8840HS</td>\n",
       "      <td>AMD XDNA up to 16 TOPS</td>\n",
       "      <td>Yes</td>\n",
       "      <td>...</td>\n",
       "      <td>Yes</td>\n",
       "      <td>Lithium Ion (Li-Ion) - 4 Cell</td>\n",
       "      <td>32.24 cm ( 12.69 in )</td>\n",
       "      <td>22.01 cm ( 8.67 in )</td>\n",
       "      <td>1.49 cm ( .59 in )</td>\n",
       "      <td>1.20 kg ( 2.65 lb )</td>\n",
       "      <td>Yes</td>\n",
       "      <td>NaN</td>\n",
       "      <td>NaN</td>\n",
       "      <td>NaN</td>\n",
       "    </tr>\n",
       "    <tr>\n",
       "      <th>4</th>\n",
       "      <td>Microsoft Surface Laptop 7 Laptop</td>\n",
       "      <td>9699</td>\n",
       "      <td>24.0</td>\n",
       "      <td>Not Applicable</td>\n",
       "      <td>JARIR</td>\n",
       "      <td>639206.0</td>\n",
       "      <td>ZHI00014</td>\n",
       "      <td>Snapdragon X Elite 12 Core</td>\n",
       "      <td>Qualcomm Hexagon NPU 45 TOPS</td>\n",
       "      <td>Yes</td>\n",
       "      <td>...</td>\n",
       "      <td>NaN</td>\n",
       "      <td>Lithium Ion (Li-Ion) - 6 Cell</td>\n",
       "      <td>32.90 cm ( 12.95 in )</td>\n",
       "      <td>23.90 cm ( 9.41 in )</td>\n",
       "      <td>1.80 cm ( .71 in )</td>\n",
       "      <td>1.60 kg ( 3.53 lb )</td>\n",
       "      <td>NaN</td>\n",
       "      <td>NaN</td>\n",
       "      <td>NaN</td>\n",
       "      <td>NaN</td>\n",
       "    </tr>\n",
       "  </tbody>\n",
       "</table>\n",
       "<p>5 rows × 40 columns</p>\n",
       "</div>"
      ],
      "text/plain": [
       "                       Product Title  Product Price  Warranty Period (Months)  \\\n",
       "0          Huawei MateBook 14 Laptop           4299                      24.0   \n",
       "1     Apple MacBook Air 15 M3 Laptop           5999                      24.0   \n",
       "2     Apple MacBook Air 15 M3 Laptop           5999                      24.0   \n",
       "3                        Asus Laptop           3799                      24.0   \n",
       "4  Microsoft Surface Laptop 7 Laptop           9699                      24.0   \n",
       "\n",
       "  Accesorises warranty  Warranted by       SKU Manufacturer Number  \\\n",
       "0            12 Months  Manufacturer  638525.0            53014ASK   \n",
       "1            12 Months  Manufacturer  646475.0            MC9D4ABA   \n",
       "2            12 Months  Manufacturer  632673.0            MRYR3ABA   \n",
       "3            12 Months  Manufacturer  642879.0       UM3406OLEDR7W   \n",
       "4       Not Applicable         JARIR  639206.0            ZHI00014   \n",
       "\n",
       "               processor type  NPU (Neural Processing Unit)  \\\n",
       "0     Intel Core Ultra 5 125H                Intel AI Boost   \n",
       "1               M3 8-core CPU         16-core Neural Engine   \n",
       "2               M3 8-core CPU         16-core Neural Engine   \n",
       "3          AMD Ryzen 7-8840HS        AMD XDNA up to 16 TOPS   \n",
       "4  Snapdragon X Elite 12 Core  Qualcomm Hexagon NPU 45 TOPS   \n",
       "\n",
       "  AI (Artificial Intelligence)  ... fingerprint  \\\n",
       "0                          Yes  ...         Yes   \n",
       "1                          Yes  ...         Yes   \n",
       "2                          Yes  ...         Yes   \n",
       "3                          Yes  ...         Yes   \n",
       "4                          Yes  ...         NaN   \n",
       "\n",
       "                    battery type                   width  \\\n",
       "0        Lithium Polymer (Li-Po)  312.60 mm ( 12.31 in )   \n",
       "1        Lithium Polymer (Li-Po)   34.04 cm ( 13.40 in )   \n",
       "2        Lithium Polymer (Li-Po)   34.04 cm ( 13.40 in )   \n",
       "3  Lithium Ion (Li-Ion) - 4 Cell   32.24 cm ( 12.69 in )   \n",
       "4  Lithium Ion (Li-Ion) - 6 Cell   32.90 cm ( 12.95 in )   \n",
       "\n",
       "           height/length                depth               weight  \\\n",
       "0  226.80 mm ( 8.93 in )  15.90 mm ( .63 in )  1.31 kg ( 2.89 lb )   \n",
       "1   23.76 cm ( 9.35 in )   1.15 cm ( .45 in )  1.51 kg ( 3.33 lb )   \n",
       "2   23.76 cm ( 9.35 in )   1.15 cm ( .45 in )  1.51 kg ( 3.33 lb )   \n",
       "3   22.01 cm ( 8.67 in )   1.49 cm ( .59 in )  1.20 kg ( 2.65 lb )   \n",
       "4   23.90 cm ( 9.41 in )   1.80 cm ( .71 in )  1.60 kg ( 3.53 lb )   \n",
       "\n",
       "  card reader  Shipping Weight (kg) Renewed Grade Renewed Remarks  \n",
       "0         NaN                   NaN           NaN             NaN  \n",
       "1         NaN                   NaN           NaN             NaN  \n",
       "2         NaN                   NaN           NaN             NaN  \n",
       "3         Yes                   NaN           NaN             NaN  \n",
       "4         NaN                   NaN           NaN             NaN  \n",
       "\n",
       "[5 rows x 40 columns]"
      ]
     },
     "execution_count": 382,
     "metadata": {},
     "output_type": "execute_result"
    }
   ],
   "source": [
    "# Removing the quotation marks from 'display size' and converting to float\n",
    "df['display size'] = df['display size'].str.replace('\"', '').astype(float)\n",
    "\n",
    "# Displaying the first few rows to confirm the change\n",
    "df.head()\n"
   ]
  },
  {
   "cell_type": "code",
   "execution_count": 384,
   "metadata": {},
   "outputs": [
    {
     "data": {
      "text/plain": [
       "0      14.2\n",
       "1      15.3\n",
       "2      15.3\n",
       "3      14.0\n",
       "4      15.0\n",
       "       ... \n",
       "200    13.6\n",
       "201    16.0\n",
       "202    14.0\n",
       "203    15.6\n",
       "204    15.3\n",
       "Name: display size, Length: 198, dtype: float64"
      ]
     },
     "execution_count": 384,
     "metadata": {},
     "output_type": "execute_result"
    }
   ],
   "source": [
    "df['display size']"
   ]
  },
  {
   "cell_type": "code",
   "execution_count": 388,
   "metadata": {},
   "outputs": [
    {
     "data": {
      "text/plain": [
       "(198, 40)"
      ]
     },
     "execution_count": 388,
     "metadata": {},
     "output_type": "execute_result"
    }
   ],
   "source": [
    "df.shape"
   ]
  },
  {
   "cell_type": "code",
   "execution_count": 390,
   "metadata": {},
   "outputs": [
    {
     "data": {
      "text/html": [
       "<div>\n",
       "<style scoped>\n",
       "    .dataframe tbody tr th:only-of-type {\n",
       "        vertical-align: middle;\n",
       "    }\n",
       "\n",
       "    .dataframe tbody tr th {\n",
       "        vertical-align: top;\n",
       "    }\n",
       "\n",
       "    .dataframe thead th {\n",
       "        text-align: right;\n",
       "    }\n",
       "</style>\n",
       "<table border=\"1\" class=\"dataframe\">\n",
       "  <thead>\n",
       "    <tr style=\"text-align: right;\">\n",
       "      <th></th>\n",
       "      <th>Product Title</th>\n",
       "      <th>Product Price</th>\n",
       "      <th>Warranty Period (Months)</th>\n",
       "      <th>Accesorises warranty</th>\n",
       "      <th>Warranted by</th>\n",
       "      <th>SKU</th>\n",
       "      <th>Manufacturer Number</th>\n",
       "      <th>processor type</th>\n",
       "      <th>NPU (Neural Processing Unit)</th>\n",
       "      <th>AI (Artificial Intelligence)</th>\n",
       "      <th>...</th>\n",
       "      <th>fingerprint</th>\n",
       "      <th>battery type</th>\n",
       "      <th>width</th>\n",
       "      <th>height/length</th>\n",
       "      <th>depth</th>\n",
       "      <th>weight</th>\n",
       "      <th>card reader</th>\n",
       "      <th>Shipping Weight (kg)</th>\n",
       "      <th>Renewed Grade</th>\n",
       "      <th>Renewed Remarks</th>\n",
       "    </tr>\n",
       "  </thead>\n",
       "  <tbody>\n",
       "    <tr>\n",
       "      <th>0</th>\n",
       "      <td>Huawei MateBook 14 Laptop</td>\n",
       "      <td>4299</td>\n",
       "      <td>24.0</td>\n",
       "      <td>12 Months</td>\n",
       "      <td>Manufacturer</td>\n",
       "      <td>638525.0</td>\n",
       "      <td>53014ASK</td>\n",
       "      <td>Intel Core Ultra 5 125H</td>\n",
       "      <td>Intel AI Boost</td>\n",
       "      <td>Yes</td>\n",
       "      <td>...</td>\n",
       "      <td>Yes</td>\n",
       "      <td>Lithium Polymer (Li-Po)</td>\n",
       "      <td>312.60 mm ( 12.31 in )</td>\n",
       "      <td>226.80 mm ( 8.93 in )</td>\n",
       "      <td>15.90 mm ( .63 in )</td>\n",
       "      <td>1.31 kg ( 2.89 lb )</td>\n",
       "      <td>No</td>\n",
       "      <td>NaN</td>\n",
       "      <td>NaN</td>\n",
       "      <td>NaN</td>\n",
       "    </tr>\n",
       "    <tr>\n",
       "      <th>1</th>\n",
       "      <td>Apple MacBook Air 15 M3 Laptop</td>\n",
       "      <td>5999</td>\n",
       "      <td>24.0</td>\n",
       "      <td>12 Months</td>\n",
       "      <td>Manufacturer</td>\n",
       "      <td>646475.0</td>\n",
       "      <td>MC9D4ABA</td>\n",
       "      <td>M3 8-core CPU</td>\n",
       "      <td>16-core Neural Engine</td>\n",
       "      <td>Yes</td>\n",
       "      <td>...</td>\n",
       "      <td>Yes</td>\n",
       "      <td>Lithium Polymer (Li-Po)</td>\n",
       "      <td>34.04 cm ( 13.40 in )</td>\n",
       "      <td>23.76 cm ( 9.35 in )</td>\n",
       "      <td>1.15 cm ( .45 in )</td>\n",
       "      <td>1.51 kg ( 3.33 lb )</td>\n",
       "      <td>No</td>\n",
       "      <td>NaN</td>\n",
       "      <td>NaN</td>\n",
       "      <td>NaN</td>\n",
       "    </tr>\n",
       "    <tr>\n",
       "      <th>2</th>\n",
       "      <td>Apple MacBook Air 15 M3 Laptop</td>\n",
       "      <td>5999</td>\n",
       "      <td>24.0</td>\n",
       "      <td>12 Months</td>\n",
       "      <td>Manufacturer</td>\n",
       "      <td>632673.0</td>\n",
       "      <td>MRYR3ABA</td>\n",
       "      <td>M3 8-core CPU</td>\n",
       "      <td>16-core Neural Engine</td>\n",
       "      <td>Yes</td>\n",
       "      <td>...</td>\n",
       "      <td>Yes</td>\n",
       "      <td>Lithium Polymer (Li-Po)</td>\n",
       "      <td>34.04 cm ( 13.40 in )</td>\n",
       "      <td>23.76 cm ( 9.35 in )</td>\n",
       "      <td>1.15 cm ( .45 in )</td>\n",
       "      <td>1.51 kg ( 3.33 lb )</td>\n",
       "      <td>No</td>\n",
       "      <td>NaN</td>\n",
       "      <td>NaN</td>\n",
       "      <td>NaN</td>\n",
       "    </tr>\n",
       "    <tr>\n",
       "      <th>3</th>\n",
       "      <td>Asus Laptop</td>\n",
       "      <td>3799</td>\n",
       "      <td>24.0</td>\n",
       "      <td>12 Months</td>\n",
       "      <td>Manufacturer</td>\n",
       "      <td>642879.0</td>\n",
       "      <td>UM3406OLEDR7W</td>\n",
       "      <td>AMD Ryzen 7-8840HS</td>\n",
       "      <td>AMD XDNA up to 16 TOPS</td>\n",
       "      <td>Yes</td>\n",
       "      <td>...</td>\n",
       "      <td>Yes</td>\n",
       "      <td>Lithium Ion (Li-Ion) - 4 Cell</td>\n",
       "      <td>32.24 cm ( 12.69 in )</td>\n",
       "      <td>22.01 cm ( 8.67 in )</td>\n",
       "      <td>1.49 cm ( .59 in )</td>\n",
       "      <td>1.20 kg ( 2.65 lb )</td>\n",
       "      <td>Yes</td>\n",
       "      <td>NaN</td>\n",
       "      <td>NaN</td>\n",
       "      <td>NaN</td>\n",
       "    </tr>\n",
       "    <tr>\n",
       "      <th>4</th>\n",
       "      <td>Microsoft Surface Laptop 7 Laptop</td>\n",
       "      <td>9699</td>\n",
       "      <td>24.0</td>\n",
       "      <td>Not Applicable</td>\n",
       "      <td>JARIR</td>\n",
       "      <td>639206.0</td>\n",
       "      <td>ZHI00014</td>\n",
       "      <td>Snapdragon X Elite 12 Core</td>\n",
       "      <td>Qualcomm Hexagon NPU 45 TOPS</td>\n",
       "      <td>Yes</td>\n",
       "      <td>...</td>\n",
       "      <td>No</td>\n",
       "      <td>Lithium Ion (Li-Ion) - 6 Cell</td>\n",
       "      <td>32.90 cm ( 12.95 in )</td>\n",
       "      <td>23.90 cm ( 9.41 in )</td>\n",
       "      <td>1.80 cm ( .71 in )</td>\n",
       "      <td>1.60 kg ( 3.53 lb )</td>\n",
       "      <td>No</td>\n",
       "      <td>NaN</td>\n",
       "      <td>NaN</td>\n",
       "      <td>NaN</td>\n",
       "    </tr>\n",
       "  </tbody>\n",
       "</table>\n",
       "<p>5 rows × 40 columns</p>\n",
       "</div>"
      ],
      "text/plain": [
       "                       Product Title  Product Price  Warranty Period (Months)  \\\n",
       "0          Huawei MateBook 14 Laptop           4299                      24.0   \n",
       "1     Apple MacBook Air 15 M3 Laptop           5999                      24.0   \n",
       "2     Apple MacBook Air 15 M3 Laptop           5999                      24.0   \n",
       "3                        Asus Laptop           3799                      24.0   \n",
       "4  Microsoft Surface Laptop 7 Laptop           9699                      24.0   \n",
       "\n",
       "  Accesorises warranty  Warranted by       SKU Manufacturer Number  \\\n",
       "0            12 Months  Manufacturer  638525.0            53014ASK   \n",
       "1            12 Months  Manufacturer  646475.0            MC9D4ABA   \n",
       "2            12 Months  Manufacturer  632673.0            MRYR3ABA   \n",
       "3            12 Months  Manufacturer  642879.0       UM3406OLEDR7W   \n",
       "4       Not Applicable         JARIR  639206.0            ZHI00014   \n",
       "\n",
       "               processor type  NPU (Neural Processing Unit)  \\\n",
       "0     Intel Core Ultra 5 125H                Intel AI Boost   \n",
       "1               M3 8-core CPU         16-core Neural Engine   \n",
       "2               M3 8-core CPU         16-core Neural Engine   \n",
       "3          AMD Ryzen 7-8840HS        AMD XDNA up to 16 TOPS   \n",
       "4  Snapdragon X Elite 12 Core  Qualcomm Hexagon NPU 45 TOPS   \n",
       "\n",
       "  AI (Artificial Intelligence)  ... fingerprint  \\\n",
       "0                          Yes  ...         Yes   \n",
       "1                          Yes  ...         Yes   \n",
       "2                          Yes  ...         Yes   \n",
       "3                          Yes  ...         Yes   \n",
       "4                          Yes  ...          No   \n",
       "\n",
       "                    battery type                   width  \\\n",
       "0        Lithium Polymer (Li-Po)  312.60 mm ( 12.31 in )   \n",
       "1        Lithium Polymer (Li-Po)   34.04 cm ( 13.40 in )   \n",
       "2        Lithium Polymer (Li-Po)   34.04 cm ( 13.40 in )   \n",
       "3  Lithium Ion (Li-Ion) - 4 Cell   32.24 cm ( 12.69 in )   \n",
       "4  Lithium Ion (Li-Ion) - 6 Cell   32.90 cm ( 12.95 in )   \n",
       "\n",
       "           height/length                depth               weight  \\\n",
       "0  226.80 mm ( 8.93 in )  15.90 mm ( .63 in )  1.31 kg ( 2.89 lb )   \n",
       "1   23.76 cm ( 9.35 in )   1.15 cm ( .45 in )  1.51 kg ( 3.33 lb )   \n",
       "2   23.76 cm ( 9.35 in )   1.15 cm ( .45 in )  1.51 kg ( 3.33 lb )   \n",
       "3   22.01 cm ( 8.67 in )   1.49 cm ( .59 in )  1.20 kg ( 2.65 lb )   \n",
       "4   23.90 cm ( 9.41 in )   1.80 cm ( .71 in )  1.60 kg ( 3.53 lb )   \n",
       "\n",
       "  card reader  Shipping Weight (kg) Renewed Grade Renewed Remarks  \n",
       "0          No                   NaN           NaN             NaN  \n",
       "1          No                   NaN           NaN             NaN  \n",
       "2          No                   NaN           NaN             NaN  \n",
       "3         Yes                   NaN           NaN             NaN  \n",
       "4          No                   NaN           NaN             NaN  \n",
       "\n",
       "[5 rows x 40 columns]"
      ]
     },
     "execution_count": 390,
     "metadata": {},
     "output_type": "execute_result"
    }
   ],
   "source": [
    "# Filling null values in the specified columns with \"No\"\n",
    "df[['fingerprint', 'card reader', 'touch display', 'AI (Artificial Intelligence)']] = df[\n",
    "    ['fingerprint', 'card reader', 'touch display', 'AI (Artificial Intelligence)']\n",
    "].fillna(\"No\")\n",
    "\n",
    "# Displaying the first few rows to confirm the changes\n",
    "df.head()"
   ]
  },
  {
   "cell_type": "markdown",
   "metadata": {},
   "source": [
    "- Check Accuracy"
   ]
  },
  {
   "cell_type": "code",
   "execution_count": 392,
   "metadata": {},
   "outputs": [
    {
     "data": {
      "text/plain": [
       "(198, 40)"
      ]
     },
     "execution_count": 392,
     "metadata": {},
     "output_type": "execute_result"
    }
   ],
   "source": [
    "# Accurecy types\n",
    "df.shape"
   ]
  },
  {
   "cell_type": "code",
   "execution_count": 394,
   "metadata": {},
   "outputs": [
    {
     "data": {
      "text/plain": [
       "Product Title                      0\n",
       "Product Price                      0\n",
       "Warranty Period (Months)           0\n",
       "Accesorises warranty               0\n",
       "Warranted by                       0\n",
       "SKU                                0\n",
       "Manufacturer Number                0\n",
       "processor type                     0\n",
       "NPU (Neural Processing Unit)      85\n",
       "AI (Artificial Intelligence)       0\n",
       "display type                       0\n",
       "graphics card                      0\n",
       "display size                       0\n",
       "operating system                   0\n",
       "product type                       0\n",
       "model/chipset number             115\n",
       "model series                       0\n",
       "generation/release                 0\n",
       "color                              1\n",
       "operating system architecture    100\n",
       "processor speed                   94\n",
       "capacity                           0\n",
       "RAM                                0\n",
       "connectivity technology            0\n",
       "ports                              2\n",
       "touch display                      0\n",
       "display resolution                 0\n",
       "cam resolution                     1\n",
       "multimedia features               12\n",
       "special features                 121\n",
       "fingerprint                        0\n",
       "battery type                       0\n",
       "width                             11\n",
       "height/length                     11\n",
       "depth                             11\n",
       "weight                             0\n",
       "card reader                        0\n",
       "Shipping Weight (kg)             195\n",
       "Renewed Grade                    188\n",
       "Renewed Remarks                  188\n",
       "dtype: int64"
      ]
     },
     "execution_count": 394,
     "metadata": {},
     "output_type": "execute_result"
    }
   ],
   "source": [
    "df.isnull().sum()"
   ]
  },
  {
   "cell_type": "code",
   "execution_count": 396,
   "metadata": {},
   "outputs": [
    {
     "data": {
      "text/html": [
       "<div>\n",
       "<style scoped>\n",
       "    .dataframe tbody tr th:only-of-type {\n",
       "        vertical-align: middle;\n",
       "    }\n",
       "\n",
       "    .dataframe tbody tr th {\n",
       "        vertical-align: top;\n",
       "    }\n",
       "\n",
       "    .dataframe thead th {\n",
       "        text-align: right;\n",
       "    }\n",
       "</style>\n",
       "<table border=\"1\" class=\"dataframe\">\n",
       "  <thead>\n",
       "    <tr style=\"text-align: right;\">\n",
       "      <th></th>\n",
       "      <th>Product Title</th>\n",
       "      <th>Product Price</th>\n",
       "      <th>Warranty Period (Months)</th>\n",
       "      <th>Accesorises warranty</th>\n",
       "      <th>Warranted by</th>\n",
       "      <th>SKU</th>\n",
       "      <th>Manufacturer Number</th>\n",
       "      <th>processor type</th>\n",
       "      <th>NPU (Neural Processing Unit)</th>\n",
       "      <th>AI (Artificial Intelligence)</th>\n",
       "      <th>...</th>\n",
       "      <th>fingerprint</th>\n",
       "      <th>battery type</th>\n",
       "      <th>width</th>\n",
       "      <th>height/length</th>\n",
       "      <th>depth</th>\n",
       "      <th>weight</th>\n",
       "      <th>card reader</th>\n",
       "      <th>Shipping Weight (kg)</th>\n",
       "      <th>Renewed Grade</th>\n",
       "      <th>Renewed Remarks</th>\n",
       "    </tr>\n",
       "  </thead>\n",
       "  <tbody>\n",
       "    <tr>\n",
       "      <th>0</th>\n",
       "      <td>Huawei MateBook 14 Laptop</td>\n",
       "      <td>4299</td>\n",
       "      <td>24.0</td>\n",
       "      <td>12 Months</td>\n",
       "      <td>Manufacturer</td>\n",
       "      <td>638525.0</td>\n",
       "      <td>53014ASK</td>\n",
       "      <td>Intel Core Ultra 5 125H</td>\n",
       "      <td>Intel AI Boost</td>\n",
       "      <td>Yes</td>\n",
       "      <td>...</td>\n",
       "      <td>Yes</td>\n",
       "      <td>Lithium Polymer (Li-Po)</td>\n",
       "      <td>312.60 mm ( 12.31 in )</td>\n",
       "      <td>226.80 mm ( 8.93 in )</td>\n",
       "      <td>15.90 mm ( .63 in )</td>\n",
       "      <td>1.31 kg ( 2.89 lb )</td>\n",
       "      <td>No</td>\n",
       "      <td>NaN</td>\n",
       "      <td>Not Applicable</td>\n",
       "      <td>NaN</td>\n",
       "    </tr>\n",
       "    <tr>\n",
       "      <th>1</th>\n",
       "      <td>Apple MacBook Air 15 M3 Laptop</td>\n",
       "      <td>5999</td>\n",
       "      <td>24.0</td>\n",
       "      <td>12 Months</td>\n",
       "      <td>Manufacturer</td>\n",
       "      <td>646475.0</td>\n",
       "      <td>MC9D4ABA</td>\n",
       "      <td>M3 8-core CPU</td>\n",
       "      <td>16-core Neural Engine</td>\n",
       "      <td>Yes</td>\n",
       "      <td>...</td>\n",
       "      <td>Yes</td>\n",
       "      <td>Lithium Polymer (Li-Po)</td>\n",
       "      <td>34.04 cm ( 13.40 in )</td>\n",
       "      <td>23.76 cm ( 9.35 in )</td>\n",
       "      <td>1.15 cm ( .45 in )</td>\n",
       "      <td>1.51 kg ( 3.33 lb )</td>\n",
       "      <td>No</td>\n",
       "      <td>NaN</td>\n",
       "      <td>Not Applicable</td>\n",
       "      <td>NaN</td>\n",
       "    </tr>\n",
       "    <tr>\n",
       "      <th>2</th>\n",
       "      <td>Apple MacBook Air 15 M3 Laptop</td>\n",
       "      <td>5999</td>\n",
       "      <td>24.0</td>\n",
       "      <td>12 Months</td>\n",
       "      <td>Manufacturer</td>\n",
       "      <td>632673.0</td>\n",
       "      <td>MRYR3ABA</td>\n",
       "      <td>M3 8-core CPU</td>\n",
       "      <td>16-core Neural Engine</td>\n",
       "      <td>Yes</td>\n",
       "      <td>...</td>\n",
       "      <td>Yes</td>\n",
       "      <td>Lithium Polymer (Li-Po)</td>\n",
       "      <td>34.04 cm ( 13.40 in )</td>\n",
       "      <td>23.76 cm ( 9.35 in )</td>\n",
       "      <td>1.15 cm ( .45 in )</td>\n",
       "      <td>1.51 kg ( 3.33 lb )</td>\n",
       "      <td>No</td>\n",
       "      <td>NaN</td>\n",
       "      <td>Not Applicable</td>\n",
       "      <td>NaN</td>\n",
       "    </tr>\n",
       "    <tr>\n",
       "      <th>3</th>\n",
       "      <td>Asus Laptop</td>\n",
       "      <td>3799</td>\n",
       "      <td>24.0</td>\n",
       "      <td>12 Months</td>\n",
       "      <td>Manufacturer</td>\n",
       "      <td>642879.0</td>\n",
       "      <td>UM3406OLEDR7W</td>\n",
       "      <td>AMD Ryzen 7-8840HS</td>\n",
       "      <td>AMD XDNA up to 16 TOPS</td>\n",
       "      <td>Yes</td>\n",
       "      <td>...</td>\n",
       "      <td>Yes</td>\n",
       "      <td>Lithium Ion (Li-Ion) - 4 Cell</td>\n",
       "      <td>32.24 cm ( 12.69 in )</td>\n",
       "      <td>22.01 cm ( 8.67 in )</td>\n",
       "      <td>1.49 cm ( .59 in )</td>\n",
       "      <td>1.20 kg ( 2.65 lb )</td>\n",
       "      <td>Yes</td>\n",
       "      <td>NaN</td>\n",
       "      <td>Not Applicable</td>\n",
       "      <td>NaN</td>\n",
       "    </tr>\n",
       "    <tr>\n",
       "      <th>4</th>\n",
       "      <td>Microsoft Surface Laptop 7 Laptop</td>\n",
       "      <td>9699</td>\n",
       "      <td>24.0</td>\n",
       "      <td>Not Applicable</td>\n",
       "      <td>JARIR</td>\n",
       "      <td>639206.0</td>\n",
       "      <td>ZHI00014</td>\n",
       "      <td>Snapdragon X Elite 12 Core</td>\n",
       "      <td>Qualcomm Hexagon NPU 45 TOPS</td>\n",
       "      <td>Yes</td>\n",
       "      <td>...</td>\n",
       "      <td>No</td>\n",
       "      <td>Lithium Ion (Li-Ion) - 6 Cell</td>\n",
       "      <td>32.90 cm ( 12.95 in )</td>\n",
       "      <td>23.90 cm ( 9.41 in )</td>\n",
       "      <td>1.80 cm ( .71 in )</td>\n",
       "      <td>1.60 kg ( 3.53 lb )</td>\n",
       "      <td>No</td>\n",
       "      <td>NaN</td>\n",
       "      <td>Not Applicable</td>\n",
       "      <td>NaN</td>\n",
       "    </tr>\n",
       "  </tbody>\n",
       "</table>\n",
       "<p>5 rows × 40 columns</p>\n",
       "</div>"
      ],
      "text/plain": [
       "                       Product Title  Product Price  Warranty Period (Months)  \\\n",
       "0          Huawei MateBook 14 Laptop           4299                      24.0   \n",
       "1     Apple MacBook Air 15 M3 Laptop           5999                      24.0   \n",
       "2     Apple MacBook Air 15 M3 Laptop           5999                      24.0   \n",
       "3                        Asus Laptop           3799                      24.0   \n",
       "4  Microsoft Surface Laptop 7 Laptop           9699                      24.0   \n",
       "\n",
       "  Accesorises warranty  Warranted by       SKU Manufacturer Number  \\\n",
       "0            12 Months  Manufacturer  638525.0            53014ASK   \n",
       "1            12 Months  Manufacturer  646475.0            MC9D4ABA   \n",
       "2            12 Months  Manufacturer  632673.0            MRYR3ABA   \n",
       "3            12 Months  Manufacturer  642879.0       UM3406OLEDR7W   \n",
       "4       Not Applicable         JARIR  639206.0            ZHI00014   \n",
       "\n",
       "               processor type  NPU (Neural Processing Unit)  \\\n",
       "0     Intel Core Ultra 5 125H                Intel AI Boost   \n",
       "1               M3 8-core CPU         16-core Neural Engine   \n",
       "2               M3 8-core CPU         16-core Neural Engine   \n",
       "3          AMD Ryzen 7-8840HS        AMD XDNA up to 16 TOPS   \n",
       "4  Snapdragon X Elite 12 Core  Qualcomm Hexagon NPU 45 TOPS   \n",
       "\n",
       "  AI (Artificial Intelligence)  ... fingerprint  \\\n",
       "0                          Yes  ...         Yes   \n",
       "1                          Yes  ...         Yes   \n",
       "2                          Yes  ...         Yes   \n",
       "3                          Yes  ...         Yes   \n",
       "4                          Yes  ...          No   \n",
       "\n",
       "                    battery type                   width  \\\n",
       "0        Lithium Polymer (Li-Po)  312.60 mm ( 12.31 in )   \n",
       "1        Lithium Polymer (Li-Po)   34.04 cm ( 13.40 in )   \n",
       "2        Lithium Polymer (Li-Po)   34.04 cm ( 13.40 in )   \n",
       "3  Lithium Ion (Li-Ion) - 4 Cell   32.24 cm ( 12.69 in )   \n",
       "4  Lithium Ion (Li-Ion) - 6 Cell   32.90 cm ( 12.95 in )   \n",
       "\n",
       "           height/length                depth               weight  \\\n",
       "0  226.80 mm ( 8.93 in )  15.90 mm ( .63 in )  1.31 kg ( 2.89 lb )   \n",
       "1   23.76 cm ( 9.35 in )   1.15 cm ( .45 in )  1.51 kg ( 3.33 lb )   \n",
       "2   23.76 cm ( 9.35 in )   1.15 cm ( .45 in )  1.51 kg ( 3.33 lb )   \n",
       "3   22.01 cm ( 8.67 in )   1.49 cm ( .59 in )  1.20 kg ( 2.65 lb )   \n",
       "4   23.90 cm ( 9.41 in )   1.80 cm ( .71 in )  1.60 kg ( 3.53 lb )   \n",
       "\n",
       "  card reader  Shipping Weight (kg)   Renewed Grade Renewed Remarks  \n",
       "0          No                   NaN  Not Applicable             NaN  \n",
       "1          No                   NaN  Not Applicable             NaN  \n",
       "2          No                   NaN  Not Applicable             NaN  \n",
       "3         Yes                   NaN  Not Applicable             NaN  \n",
       "4          No                   NaN  Not Applicable             NaN  \n",
       "\n",
       "[5 rows x 40 columns]"
      ]
     },
     "execution_count": 396,
     "metadata": {},
     "output_type": "execute_result"
    }
   ],
   "source": [
    "# Filling null values in object-type columns with \"Not Applicable\"\n",
    "df = df.fillna({col: \"Not Applicable\" for col in df.select_dtypes(include='object').columns})\n",
    "\n",
    "# Displaying the first few rows to confirm the changes\n",
    "df.head()"
   ]
  },
  {
   "cell_type": "code",
   "execution_count": null,
   "metadata": {},
   "outputs": [],
   "source": []
  },
  {
   "cell_type": "code",
   "execution_count": 398,
   "metadata": {},
   "outputs": [
    {
     "data": {
      "text/html": [
       "<div>\n",
       "<style scoped>\n",
       "    .dataframe tbody tr th:only-of-type {\n",
       "        vertical-align: middle;\n",
       "    }\n",
       "\n",
       "    .dataframe tbody tr th {\n",
       "        vertical-align: top;\n",
       "    }\n",
       "\n",
       "    .dataframe thead th {\n",
       "        text-align: right;\n",
       "    }\n",
       "</style>\n",
       "<table border=\"1\" class=\"dataframe\">\n",
       "  <thead>\n",
       "    <tr style=\"text-align: right;\">\n",
       "      <th></th>\n",
       "      <th>Product Title</th>\n",
       "      <th>Product Price</th>\n",
       "      <th>Warranty Period (Months)</th>\n",
       "      <th>Accesorises warranty</th>\n",
       "      <th>Warranted by</th>\n",
       "      <th>SKU</th>\n",
       "      <th>Manufacturer Number</th>\n",
       "      <th>processor type</th>\n",
       "      <th>NPU (Neural Processing Unit)</th>\n",
       "      <th>AI (Artificial Intelligence)</th>\n",
       "      <th>...</th>\n",
       "      <th>cam resolution</th>\n",
       "      <th>multimedia features</th>\n",
       "      <th>special features</th>\n",
       "      <th>fingerprint</th>\n",
       "      <th>battery type</th>\n",
       "      <th>width</th>\n",
       "      <th>height/length</th>\n",
       "      <th>depth</th>\n",
       "      <th>weight</th>\n",
       "      <th>card reader</th>\n",
       "    </tr>\n",
       "  </thead>\n",
       "  <tbody>\n",
       "    <tr>\n",
       "      <th>0</th>\n",
       "      <td>Huawei MateBook 14 Laptop</td>\n",
       "      <td>4299</td>\n",
       "      <td>24.0</td>\n",
       "      <td>12 Months</td>\n",
       "      <td>Manufacturer</td>\n",
       "      <td>638525.0</td>\n",
       "      <td>53014ASK</td>\n",
       "      <td>Intel Core Ultra 5 125H</td>\n",
       "      <td>Intel AI Boost</td>\n",
       "      <td>Yes</td>\n",
       "      <td>...</td>\n",
       "      <td>FHD (2 MP) Webcam</td>\n",
       "      <td>Built-in Mic/Speakers</td>\n",
       "      <td>Full Size Keyboard</td>\n",
       "      <td>Yes</td>\n",
       "      <td>Lithium Polymer (Li-Po)</td>\n",
       "      <td>312.60 mm ( 12.31 in )</td>\n",
       "      <td>226.80 mm ( 8.93 in )</td>\n",
       "      <td>15.90 mm ( .63 in )</td>\n",
       "      <td>1.31 kg ( 2.89 lb )</td>\n",
       "      <td>No</td>\n",
       "    </tr>\n",
       "    <tr>\n",
       "      <th>1</th>\n",
       "      <td>Apple MacBook Air 15 M3 Laptop</td>\n",
       "      <td>5999</td>\n",
       "      <td>24.0</td>\n",
       "      <td>12 Months</td>\n",
       "      <td>Manufacturer</td>\n",
       "      <td>646475.0</td>\n",
       "      <td>MC9D4ABA</td>\n",
       "      <td>M3 8-core CPU</td>\n",
       "      <td>16-core Neural Engine</td>\n",
       "      <td>Yes</td>\n",
       "      <td>...</td>\n",
       "      <td>1080p FaceTime HD Camera</td>\n",
       "      <td>Built-in Mic/Speakers</td>\n",
       "      <td>Not Applicable</td>\n",
       "      <td>Yes</td>\n",
       "      <td>Lithium Polymer (Li-Po)</td>\n",
       "      <td>34.04 cm ( 13.40 in )</td>\n",
       "      <td>23.76 cm ( 9.35 in )</td>\n",
       "      <td>1.15 cm ( .45 in )</td>\n",
       "      <td>1.51 kg ( 3.33 lb )</td>\n",
       "      <td>No</td>\n",
       "    </tr>\n",
       "    <tr>\n",
       "      <th>2</th>\n",
       "      <td>Apple MacBook Air 15 M3 Laptop</td>\n",
       "      <td>5999</td>\n",
       "      <td>24.0</td>\n",
       "      <td>12 Months</td>\n",
       "      <td>Manufacturer</td>\n",
       "      <td>632673.0</td>\n",
       "      <td>MRYR3ABA</td>\n",
       "      <td>M3 8-core CPU</td>\n",
       "      <td>16-core Neural Engine</td>\n",
       "      <td>Yes</td>\n",
       "      <td>...</td>\n",
       "      <td>1080p FaceTime HD Camera</td>\n",
       "      <td>Built-in Mic/Speakers</td>\n",
       "      <td>Not Applicable</td>\n",
       "      <td>Yes</td>\n",
       "      <td>Lithium Polymer (Li-Po)</td>\n",
       "      <td>34.04 cm ( 13.40 in )</td>\n",
       "      <td>23.76 cm ( 9.35 in )</td>\n",
       "      <td>1.15 cm ( .45 in )</td>\n",
       "      <td>1.51 kg ( 3.33 lb )</td>\n",
       "      <td>No</td>\n",
       "    </tr>\n",
       "    <tr>\n",
       "      <th>3</th>\n",
       "      <td>Asus Laptop</td>\n",
       "      <td>3799</td>\n",
       "      <td>24.0</td>\n",
       "      <td>12 Months</td>\n",
       "      <td>Manufacturer</td>\n",
       "      <td>642879.0</td>\n",
       "      <td>UM3406OLEDR7W</td>\n",
       "      <td>AMD Ryzen 7-8840HS</td>\n",
       "      <td>AMD XDNA up to 16 TOPS</td>\n",
       "      <td>Yes</td>\n",
       "      <td>...</td>\n",
       "      <td>1080P FHD Camera</td>\n",
       "      <td>Harman Kardon</td>\n",
       "      <td>Backlit Chiclet Keyboard</td>\n",
       "      <td>Yes</td>\n",
       "      <td>Lithium Ion (Li-Ion) - 4 Cell</td>\n",
       "      <td>32.24 cm ( 12.69 in )</td>\n",
       "      <td>22.01 cm ( 8.67 in )</td>\n",
       "      <td>1.49 cm ( .59 in )</td>\n",
       "      <td>1.20 kg ( 2.65 lb )</td>\n",
       "      <td>Yes</td>\n",
       "    </tr>\n",
       "    <tr>\n",
       "      <th>4</th>\n",
       "      <td>Microsoft Surface Laptop 7 Laptop</td>\n",
       "      <td>9699</td>\n",
       "      <td>24.0</td>\n",
       "      <td>Not Applicable</td>\n",
       "      <td>JARIR</td>\n",
       "      <td>639206.0</td>\n",
       "      <td>ZHI00014</td>\n",
       "      <td>Snapdragon X Elite 12 Core</td>\n",
       "      <td>Qualcomm Hexagon NPU 45 TOPS</td>\n",
       "      <td>Yes</td>\n",
       "      <td>...</td>\n",
       "      <td>1080P FHD Camera</td>\n",
       "      <td>Not Applicable</td>\n",
       "      <td>CoPilot+</td>\n",
       "      <td>No</td>\n",
       "      <td>Lithium Ion (Li-Ion) - 6 Cell</td>\n",
       "      <td>32.90 cm ( 12.95 in )</td>\n",
       "      <td>23.90 cm ( 9.41 in )</td>\n",
       "      <td>1.80 cm ( .71 in )</td>\n",
       "      <td>1.60 kg ( 3.53 lb )</td>\n",
       "      <td>No</td>\n",
       "    </tr>\n",
       "  </tbody>\n",
       "</table>\n",
       "<p>5 rows × 36 columns</p>\n",
       "</div>"
      ],
      "text/plain": [
       "                       Product Title  Product Price  Warranty Period (Months)  \\\n",
       "0          Huawei MateBook 14 Laptop           4299                      24.0   \n",
       "1     Apple MacBook Air 15 M3 Laptop           5999                      24.0   \n",
       "2     Apple MacBook Air 15 M3 Laptop           5999                      24.0   \n",
       "3                        Asus Laptop           3799                      24.0   \n",
       "4  Microsoft Surface Laptop 7 Laptop           9699                      24.0   \n",
       "\n",
       "  Accesorises warranty  Warranted by       SKU Manufacturer Number  \\\n",
       "0            12 Months  Manufacturer  638525.0            53014ASK   \n",
       "1            12 Months  Manufacturer  646475.0            MC9D4ABA   \n",
       "2            12 Months  Manufacturer  632673.0            MRYR3ABA   \n",
       "3            12 Months  Manufacturer  642879.0       UM3406OLEDR7W   \n",
       "4       Not Applicable         JARIR  639206.0            ZHI00014   \n",
       "\n",
       "               processor type  NPU (Neural Processing Unit)  \\\n",
       "0     Intel Core Ultra 5 125H                Intel AI Boost   \n",
       "1               M3 8-core CPU         16-core Neural Engine   \n",
       "2               M3 8-core CPU         16-core Neural Engine   \n",
       "3          AMD Ryzen 7-8840HS        AMD XDNA up to 16 TOPS   \n",
       "4  Snapdragon X Elite 12 Core  Qualcomm Hexagon NPU 45 TOPS   \n",
       "\n",
       "  AI (Artificial Intelligence)  ...            cam resolution  \\\n",
       "0                          Yes  ...         FHD (2 MP) Webcam   \n",
       "1                          Yes  ...  1080p FaceTime HD Camera   \n",
       "2                          Yes  ...  1080p FaceTime HD Camera   \n",
       "3                          Yes  ...          1080P FHD Camera   \n",
       "4                          Yes  ...          1080P FHD Camera   \n",
       "\n",
       "     multimedia features          special features fingerprint  \\\n",
       "0  Built-in Mic/Speakers        Full Size Keyboard         Yes   \n",
       "1  Built-in Mic/Speakers            Not Applicable         Yes   \n",
       "2  Built-in Mic/Speakers            Not Applicable         Yes   \n",
       "3          Harman Kardon  Backlit Chiclet Keyboard         Yes   \n",
       "4         Not Applicable                  CoPilot+          No   \n",
       "\n",
       "                    battery type                   width  \\\n",
       "0        Lithium Polymer (Li-Po)  312.60 mm ( 12.31 in )   \n",
       "1        Lithium Polymer (Li-Po)   34.04 cm ( 13.40 in )   \n",
       "2        Lithium Polymer (Li-Po)   34.04 cm ( 13.40 in )   \n",
       "3  Lithium Ion (Li-Ion) - 4 Cell   32.24 cm ( 12.69 in )   \n",
       "4  Lithium Ion (Li-Ion) - 6 Cell   32.90 cm ( 12.95 in )   \n",
       "\n",
       "           height/length                depth               weight card reader  \n",
       "0  226.80 mm ( 8.93 in )  15.90 mm ( .63 in )  1.31 kg ( 2.89 lb )          No  \n",
       "1   23.76 cm ( 9.35 in )   1.15 cm ( .45 in )  1.51 kg ( 3.33 lb )          No  \n",
       "2   23.76 cm ( 9.35 in )   1.15 cm ( .45 in )  1.51 kg ( 3.33 lb )          No  \n",
       "3   22.01 cm ( 8.67 in )   1.49 cm ( .59 in )  1.20 kg ( 2.65 lb )         Yes  \n",
       "4   23.90 cm ( 9.41 in )   1.80 cm ( .71 in )  1.60 kg ( 3.53 lb )          No  \n",
       "\n",
       "[5 rows x 36 columns]"
      ]
     },
     "execution_count": 398,
     "metadata": {},
     "output_type": "execute_result"
    }
   ],
   "source": [
    "# Dropping the specified columns\n",
    "df = df.drop(columns=['Shipping Weight (kg)', 'Renewed Grade', 'Renewed Remarks' , 'model/chipset number'])\n",
    "\n",
    "# Displaying the first few rows to confirm the columns have been dropped\n",
    "df.head()"
   ]
  },
  {
   "cell_type": "code",
   "execution_count": 400,
   "metadata": {},
   "outputs": [
    {
     "data": {
      "text/plain": [
       "Index(['Product Title', 'Product Price', 'Warranty Period (Months)',\n",
       "       'Accesorises warranty', 'Warranted by', 'SKU', 'Manufacturer Number',\n",
       "       'processor type', 'NPU (Neural Processing Unit)',\n",
       "       'AI (Artificial Intelligence)', 'display type', 'graphics card',\n",
       "       'display size', 'operating system', 'product type', 'model series',\n",
       "       'generation/release', 'color', 'operating system architecture',\n",
       "       'processor speed', 'capacity', 'RAM', 'connectivity technology',\n",
       "       'ports', 'touch display', 'display resolution', 'cam resolution',\n",
       "       'multimedia features', 'special features', 'fingerprint',\n",
       "       'battery type', 'width', 'height/length', 'depth', 'weight',\n",
       "       'card reader'],\n",
       "      dtype='object')"
      ]
     },
     "execution_count": 400,
     "metadata": {},
     "output_type": "execute_result"
    }
   ],
   "source": [
    "df.columns"
   ]
  },
  {
   "cell_type": "code",
   "execution_count": null,
   "metadata": {},
   "outputs": [],
   "source": []
  },
  {
   "cell_type": "code",
   "execution_count": 402,
   "metadata": {},
   "outputs": [
    {
     "name": "stdout",
     "output_type": "stream",
     "text": [
      "Numerical columns:\n",
      " Index(['Product Price', 'Warranty Period (Months)', 'SKU', 'display size',\n",
      "       'generation/release'],\n",
      "      dtype='object')\n",
      "Categorical columns:\n",
      " Index(['Product Title', 'Accesorises warranty', 'Warranted by',\n",
      "       'Manufacturer Number', 'processor type', 'NPU (Neural Processing Unit)',\n",
      "       'AI (Artificial Intelligence)', 'display type', 'graphics card',\n",
      "       'operating system', 'product type', 'model series', 'color',\n",
      "       'operating system architecture', 'processor speed', 'capacity', 'RAM',\n",
      "       'connectivity technology', 'ports', 'touch display',\n",
      "       'display resolution', 'cam resolution', 'multimedia features',\n",
      "       'special features', 'fingerprint', 'battery type', 'width',\n",
      "       'height/length', 'depth', 'weight', 'card reader'],\n",
      "      dtype='object')\n"
     ]
    }
   ],
   "source": [
    "# Selecting numerical columns\n",
    "numerical_columns = df.select_dtypes(include=['int64', 'float64']).columns\n",
    "print(\"Numerical columns:\\n\", numerical_columns)\n",
    "\n",
    "# Selecting categorical columns\n",
    "categorical_columns = df.select_dtypes(include=['object']).columns\n",
    "print(\"Categorical columns:\\n\", categorical_columns)"
   ]
  },
  {
   "cell_type": "markdown",
   "metadata": {},
   "source": [
    "- check outliers "
   ]
  },
  {
   "cell_type": "markdown",
   "metadata": {},
   "source": [
    "- check outliers 'Product Price'"
   ]
  },
  {
   "cell_type": "code",
   "execution_count": 407,
   "metadata": {},
   "outputs": [
    {
     "data": {
      "text/plain": [
       "Product Price\n",
       "4499    12\n",
       "5199     9\n",
       "5999     9\n",
       "2999     8\n",
       "7899     7\n",
       "        ..\n",
       "9029     1\n",
       "3029     1\n",
       "6519     1\n",
       "6229     1\n",
       "2829     1\n",
       "Name: count, Length: 90, dtype: int64"
      ]
     },
     "execution_count": 407,
     "metadata": {},
     "output_type": "execute_result"
    }
   ],
   "source": [
    "df['Product Price'].value_counts()"
   ]
  },
  {
   "cell_type": "code",
   "execution_count": 415,
   "metadata": {},
   "outputs": [
    {
     "data": {
      "application/vnd.plotly.v1+json": {
       "config": {
        "plotlyServerURL": "https://plot.ly"
       },
       "data": [
        {
         "alignmentgroup": "True",
         "hovertemplate": "Product Price=%{y}<extra></extra>",
         "legendgroup": "",
         "marker": {
          "color": "#636efa"
         },
         "name": "",
         "notched": false,
         "offsetgroup": "",
         "orientation": "v",
         "showlegend": false,
         "type": "box",
         "x0": " ",
         "xaxis": "x",
         "y": [
          4299,
          5999,
          5999,
          3799,
          9699,
          4799,
          3599,
          2999,
          4499,
          2799,
          3799,
          4019,
          3649,
          11399,
          4499,
          4999,
          2999,
          5699,
          6299,
          4329,
          4499,
          5499,
          4999,
          4499,
          9029,
          3999,
          7099,
          3899,
          9399,
          1999,
          2999,
          7099,
          5249,
          9899,
          2899,
          5029,
          2099,
          5199,
          7099,
          5199,
          2429,
          4499,
          3199,
          2499,
          7099,
          2319,
          7899,
          6229,
          4499,
          6199,
          3299,
          3229,
          7899,
          1929,
          6999,
          4499,
          1819,
          2999,
          2729,
          2829,
          2199,
          6299,
          5999,
          4999,
          6899,
          11499,
          7099,
          6199,
          4499,
          4999,
          1629,
          3799,
          6629,
          4699,
          2999,
          4699,
          4499,
          4499,
          7899,
          3499,
          6799,
          2649,
          4029,
          8499,
          5999,
          2229,
          7899,
          5999,
          3799,
          3029,
          6519,
          9499,
          8399,
          4499,
          3499,
          1499,
          5199,
          5899,
          6799,
          3999,
          6999,
          3399,
          7099,
          4399,
          11499,
          1579,
          4299,
          10399,
          4299,
          4029,
          2529,
          2199,
          9499,
          1629,
          11399,
          5199,
          6019,
          8499,
          2699,
          7499,
          5199,
          3399,
          9499,
          4529,
          6999,
          2399,
          7899,
          2319,
          7099,
          1929,
          2229,
          1499,
          5999,
          6499,
          8499,
          4699,
          3729,
          5199,
          2399,
          5199,
          11299,
          4999,
          1899,
          5999,
          2799,
          7899,
          5799,
          6899,
          10899,
          4499,
          7329,
          2399,
          2099,
          6199,
          5499,
          6299,
          3299,
          3449,
          3399,
          8499,
          4799,
          6499,
          2999,
          7799,
          6999,
          1849,
          9399,
          7899,
          5699,
          3049,
          6799,
          4299,
          2799,
          6899,
          1629,
          2999,
          7499,
          5999,
          5199,
          5699,
          2999,
          5999,
          5199,
          5029,
          2799,
          2499,
          5799
         ],
         "y0": " ",
         "yaxis": "y"
        }
       ],
       "layout": {
        "autosize": true,
        "boxmode": "group",
        "legend": {
         "tracegroupgap": 0
        },
        "template": {
         "data": {
          "bar": [
           {
            "error_x": {
             "color": "#2a3f5f"
            },
            "error_y": {
             "color": "#2a3f5f"
            },
            "marker": {
             "line": {
              "color": "#E5ECF6",
              "width": 0.5
             },
             "pattern": {
              "fillmode": "overlay",
              "size": 10,
              "solidity": 0.2
             }
            },
            "type": "bar"
           }
          ],
          "barpolar": [
           {
            "marker": {
             "line": {
              "color": "#E5ECF6",
              "width": 0.5
             },
             "pattern": {
              "fillmode": "overlay",
              "size": 10,
              "solidity": 0.2
             }
            },
            "type": "barpolar"
           }
          ],
          "carpet": [
           {
            "aaxis": {
             "endlinecolor": "#2a3f5f",
             "gridcolor": "white",
             "linecolor": "white",
             "minorgridcolor": "white",
             "startlinecolor": "#2a3f5f"
            },
            "baxis": {
             "endlinecolor": "#2a3f5f",
             "gridcolor": "white",
             "linecolor": "white",
             "minorgridcolor": "white",
             "startlinecolor": "#2a3f5f"
            },
            "type": "carpet"
           }
          ],
          "choropleth": [
           {
            "colorbar": {
             "outlinewidth": 0,
             "ticks": ""
            },
            "type": "choropleth"
           }
          ],
          "contour": [
           {
            "colorbar": {
             "outlinewidth": 0,
             "ticks": ""
            },
            "colorscale": [
             [
              0,
              "#0d0887"
             ],
             [
              0.1111111111111111,
              "#46039f"
             ],
             [
              0.2222222222222222,
              "#7201a8"
             ],
             [
              0.3333333333333333,
              "#9c179e"
             ],
             [
              0.4444444444444444,
              "#bd3786"
             ],
             [
              0.5555555555555556,
              "#d8576b"
             ],
             [
              0.6666666666666666,
              "#ed7953"
             ],
             [
              0.7777777777777778,
              "#fb9f3a"
             ],
             [
              0.8888888888888888,
              "#fdca26"
             ],
             [
              1,
              "#f0f921"
             ]
            ],
            "type": "contour"
           }
          ],
          "contourcarpet": [
           {
            "colorbar": {
             "outlinewidth": 0,
             "ticks": ""
            },
            "type": "contourcarpet"
           }
          ],
          "heatmap": [
           {
            "colorbar": {
             "outlinewidth": 0,
             "ticks": ""
            },
            "colorscale": [
             [
              0,
              "#0d0887"
             ],
             [
              0.1111111111111111,
              "#46039f"
             ],
             [
              0.2222222222222222,
              "#7201a8"
             ],
             [
              0.3333333333333333,
              "#9c179e"
             ],
             [
              0.4444444444444444,
              "#bd3786"
             ],
             [
              0.5555555555555556,
              "#d8576b"
             ],
             [
              0.6666666666666666,
              "#ed7953"
             ],
             [
              0.7777777777777778,
              "#fb9f3a"
             ],
             [
              0.8888888888888888,
              "#fdca26"
             ],
             [
              1,
              "#f0f921"
             ]
            ],
            "type": "heatmap"
           }
          ],
          "heatmapgl": [
           {
            "colorbar": {
             "outlinewidth": 0,
             "ticks": ""
            },
            "colorscale": [
             [
              0,
              "#0d0887"
             ],
             [
              0.1111111111111111,
              "#46039f"
             ],
             [
              0.2222222222222222,
              "#7201a8"
             ],
             [
              0.3333333333333333,
              "#9c179e"
             ],
             [
              0.4444444444444444,
              "#bd3786"
             ],
             [
              0.5555555555555556,
              "#d8576b"
             ],
             [
              0.6666666666666666,
              "#ed7953"
             ],
             [
              0.7777777777777778,
              "#fb9f3a"
             ],
             [
              0.8888888888888888,
              "#fdca26"
             ],
             [
              1,
              "#f0f921"
             ]
            ],
            "type": "heatmapgl"
           }
          ],
          "histogram": [
           {
            "marker": {
             "pattern": {
              "fillmode": "overlay",
              "size": 10,
              "solidity": 0.2
             }
            },
            "type": "histogram"
           }
          ],
          "histogram2d": [
           {
            "colorbar": {
             "outlinewidth": 0,
             "ticks": ""
            },
            "colorscale": [
             [
              0,
              "#0d0887"
             ],
             [
              0.1111111111111111,
              "#46039f"
             ],
             [
              0.2222222222222222,
              "#7201a8"
             ],
             [
              0.3333333333333333,
              "#9c179e"
             ],
             [
              0.4444444444444444,
              "#bd3786"
             ],
             [
              0.5555555555555556,
              "#d8576b"
             ],
             [
              0.6666666666666666,
              "#ed7953"
             ],
             [
              0.7777777777777778,
              "#fb9f3a"
             ],
             [
              0.8888888888888888,
              "#fdca26"
             ],
             [
              1,
              "#f0f921"
             ]
            ],
            "type": "histogram2d"
           }
          ],
          "histogram2dcontour": [
           {
            "colorbar": {
             "outlinewidth": 0,
             "ticks": ""
            },
            "colorscale": [
             [
              0,
              "#0d0887"
             ],
             [
              0.1111111111111111,
              "#46039f"
             ],
             [
              0.2222222222222222,
              "#7201a8"
             ],
             [
              0.3333333333333333,
              "#9c179e"
             ],
             [
              0.4444444444444444,
              "#bd3786"
             ],
             [
              0.5555555555555556,
              "#d8576b"
             ],
             [
              0.6666666666666666,
              "#ed7953"
             ],
             [
              0.7777777777777778,
              "#fb9f3a"
             ],
             [
              0.8888888888888888,
              "#fdca26"
             ],
             [
              1,
              "#f0f921"
             ]
            ],
            "type": "histogram2dcontour"
           }
          ],
          "mesh3d": [
           {
            "colorbar": {
             "outlinewidth": 0,
             "ticks": ""
            },
            "type": "mesh3d"
           }
          ],
          "parcoords": [
           {
            "line": {
             "colorbar": {
              "outlinewidth": 0,
              "ticks": ""
             }
            },
            "type": "parcoords"
           }
          ],
          "pie": [
           {
            "automargin": true,
            "type": "pie"
           }
          ],
          "scatter": [
           {
            "fillpattern": {
             "fillmode": "overlay",
             "size": 10,
             "solidity": 0.2
            },
            "type": "scatter"
           }
          ],
          "scatter3d": [
           {
            "line": {
             "colorbar": {
              "outlinewidth": 0,
              "ticks": ""
             }
            },
            "marker": {
             "colorbar": {
              "outlinewidth": 0,
              "ticks": ""
             }
            },
            "type": "scatter3d"
           }
          ],
          "scattercarpet": [
           {
            "marker": {
             "colorbar": {
              "outlinewidth": 0,
              "ticks": ""
             }
            },
            "type": "scattercarpet"
           }
          ],
          "scattergeo": [
           {
            "marker": {
             "colorbar": {
              "outlinewidth": 0,
              "ticks": ""
             }
            },
            "type": "scattergeo"
           }
          ],
          "scattergl": [
           {
            "marker": {
             "colorbar": {
              "outlinewidth": 0,
              "ticks": ""
             }
            },
            "type": "scattergl"
           }
          ],
          "scattermapbox": [
           {
            "marker": {
             "colorbar": {
              "outlinewidth": 0,
              "ticks": ""
             }
            },
            "type": "scattermapbox"
           }
          ],
          "scatterpolar": [
           {
            "marker": {
             "colorbar": {
              "outlinewidth": 0,
              "ticks": ""
             }
            },
            "type": "scatterpolar"
           }
          ],
          "scatterpolargl": [
           {
            "marker": {
             "colorbar": {
              "outlinewidth": 0,
              "ticks": ""
             }
            },
            "type": "scatterpolargl"
           }
          ],
          "scatterternary": [
           {
            "marker": {
             "colorbar": {
              "outlinewidth": 0,
              "ticks": ""
             }
            },
            "type": "scatterternary"
           }
          ],
          "surface": [
           {
            "colorbar": {
             "outlinewidth": 0,
             "ticks": ""
            },
            "colorscale": [
             [
              0,
              "#0d0887"
             ],
             [
              0.1111111111111111,
              "#46039f"
             ],
             [
              0.2222222222222222,
              "#7201a8"
             ],
             [
              0.3333333333333333,
              "#9c179e"
             ],
             [
              0.4444444444444444,
              "#bd3786"
             ],
             [
              0.5555555555555556,
              "#d8576b"
             ],
             [
              0.6666666666666666,
              "#ed7953"
             ],
             [
              0.7777777777777778,
              "#fb9f3a"
             ],
             [
              0.8888888888888888,
              "#fdca26"
             ],
             [
              1,
              "#f0f921"
             ]
            ],
            "type": "surface"
           }
          ],
          "table": [
           {
            "cells": {
             "fill": {
              "color": "#EBF0F8"
             },
             "line": {
              "color": "white"
             }
            },
            "header": {
             "fill": {
              "color": "#C8D4E3"
             },
             "line": {
              "color": "white"
             }
            },
            "type": "table"
           }
          ]
         },
         "layout": {
          "annotationdefaults": {
           "arrowcolor": "#2a3f5f",
           "arrowhead": 0,
           "arrowwidth": 1
          },
          "autotypenumbers": "strict",
          "coloraxis": {
           "colorbar": {
            "outlinewidth": 0,
            "ticks": ""
           }
          },
          "colorscale": {
           "diverging": [
            [
             0,
             "#8e0152"
            ],
            [
             0.1,
             "#c51b7d"
            ],
            [
             0.2,
             "#de77ae"
            ],
            [
             0.3,
             "#f1b6da"
            ],
            [
             0.4,
             "#fde0ef"
            ],
            [
             0.5,
             "#f7f7f7"
            ],
            [
             0.6,
             "#e6f5d0"
            ],
            [
             0.7,
             "#b8e186"
            ],
            [
             0.8,
             "#7fbc41"
            ],
            [
             0.9,
             "#4d9221"
            ],
            [
             1,
             "#276419"
            ]
           ],
           "sequential": [
            [
             0,
             "#0d0887"
            ],
            [
             0.1111111111111111,
             "#46039f"
            ],
            [
             0.2222222222222222,
             "#7201a8"
            ],
            [
             0.3333333333333333,
             "#9c179e"
            ],
            [
             0.4444444444444444,
             "#bd3786"
            ],
            [
             0.5555555555555556,
             "#d8576b"
            ],
            [
             0.6666666666666666,
             "#ed7953"
            ],
            [
             0.7777777777777778,
             "#fb9f3a"
            ],
            [
             0.8888888888888888,
             "#fdca26"
            ],
            [
             1,
             "#f0f921"
            ]
           ],
           "sequentialminus": [
            [
             0,
             "#0d0887"
            ],
            [
             0.1111111111111111,
             "#46039f"
            ],
            [
             0.2222222222222222,
             "#7201a8"
            ],
            [
             0.3333333333333333,
             "#9c179e"
            ],
            [
             0.4444444444444444,
             "#bd3786"
            ],
            [
             0.5555555555555556,
             "#d8576b"
            ],
            [
             0.6666666666666666,
             "#ed7953"
            ],
            [
             0.7777777777777778,
             "#fb9f3a"
            ],
            [
             0.8888888888888888,
             "#fdca26"
            ],
            [
             1,
             "#f0f921"
            ]
           ]
          },
          "colorway": [
           "#636efa",
           "#EF553B",
           "#00cc96",
           "#ab63fa",
           "#FFA15A",
           "#19d3f3",
           "#FF6692",
           "#B6E880",
           "#FF97FF",
           "#FECB52"
          ],
          "font": {
           "color": "#2a3f5f"
          },
          "geo": {
           "bgcolor": "white",
           "lakecolor": "white",
           "landcolor": "#E5ECF6",
           "showlakes": true,
           "showland": true,
           "subunitcolor": "white"
          },
          "hoverlabel": {
           "align": "left"
          },
          "hovermode": "closest",
          "mapbox": {
           "style": "light"
          },
          "paper_bgcolor": "white",
          "plot_bgcolor": "#E5ECF6",
          "polar": {
           "angularaxis": {
            "gridcolor": "white",
            "linecolor": "white",
            "ticks": ""
           },
           "bgcolor": "#E5ECF6",
           "radialaxis": {
            "gridcolor": "white",
            "linecolor": "white",
            "ticks": ""
           }
          },
          "scene": {
           "xaxis": {
            "backgroundcolor": "#E5ECF6",
            "gridcolor": "white",
            "gridwidth": 2,
            "linecolor": "white",
            "showbackground": true,
            "ticks": "",
            "zerolinecolor": "white"
           },
           "yaxis": {
            "backgroundcolor": "#E5ECF6",
            "gridcolor": "white",
            "gridwidth": 2,
            "linecolor": "white",
            "showbackground": true,
            "ticks": "",
            "zerolinecolor": "white"
           },
           "zaxis": {
            "backgroundcolor": "#E5ECF6",
            "gridcolor": "white",
            "gridwidth": 2,
            "linecolor": "white",
            "showbackground": true,
            "ticks": "",
            "zerolinecolor": "white"
           }
          },
          "shapedefaults": {
           "line": {
            "color": "#2a3f5f"
           }
          },
          "ternary": {
           "aaxis": {
            "gridcolor": "white",
            "linecolor": "white",
            "ticks": ""
           },
           "baxis": {
            "gridcolor": "white",
            "linecolor": "white",
            "ticks": ""
           },
           "bgcolor": "#E5ECF6",
           "caxis": {
            "gridcolor": "white",
            "linecolor": "white",
            "ticks": ""
           }
          },
          "title": {
           "x": 0.05
          },
          "xaxis": {
           "automargin": true,
           "gridcolor": "white",
           "linecolor": "white",
           "ticks": "",
           "title": {
            "standoff": 15
           },
           "zerolinecolor": "white",
           "zerolinewidth": 2
          },
          "yaxis": {
           "automargin": true,
           "gridcolor": "white",
           "linecolor": "white",
           "ticks": "",
           "title": {
            "standoff": 15
           },
           "zerolinecolor": "white",
           "zerolinewidth": 2
          }
         }
        },
        "title": {
         "text": "Outlier Detection in Product Price"
        },
        "xaxis": {
         "anchor": "y",
         "autorange": true,
         "domain": [
          0,
          1
         ],
         "range": [
          -0.5,
          0.5
         ],
         "type": "category"
        },
        "yaxis": {
         "anchor": "x",
         "autorange": true,
         "domain": [
          0,
          1
         ],
         "range": [
          943.4444444444445,
          12054.555555555555
         ],
         "title": {
          "text": "Product Price"
         },
         "type": "linear"
        }
       }
      },
      "image/png": "[encoded data removed]",
      "text/html": [
       "<div>                            <div id=\"a9dca893-9783-417d-9ac8-8c96bb8d453a\" class=\"plotly-graph-div\" style=\"height:525px; width:100%;\"></div>            <script type=\"text/javascript\">                require([\"plotly\"], function(Plotly) {                    window.PLOTLYENV=window.PLOTLYENV || {};                                    if (document.getElementById(\"a9dca893-9783-417d-9ac8-8c96bb8d453a\")) {                    Plotly.newPlot(                        \"a9dca893-9783-417d-9ac8-8c96bb8d453a\",                        [{\"alignmentgroup\":\"True\",\"hovertemplate\":\"Product Price=%{y}\\u003cextra\\u003e\\u003c\\u002fextra\\u003e\",\"legendgroup\":\"\",\"marker\":{\"color\":\"#636efa\"},\"name\":\"\",\"notched\":false,\"offsetgroup\":\"\",\"orientation\":\"v\",\"showlegend\":false,\"x0\":\" \",\"xaxis\":\"x\",\"y\":[4299,5999,5999,3799,9699,4799,3599,2999,4499,2799,3799,4019,3649,11399,4499,4999,2999,5699,6299,4329,4499,5499,4999,4499,9029,3999,7099,3899,9399,1999,2999,7099,5249,9899,2899,5029,2099,5199,7099,5199,2429,4499,3199,2499,7099,2319,7899,6229,4499,6199,3299,3229,7899,1929,6999,4499,1819,2999,2729,2829,2199,6299,5999,4999,6899,11499,7099,6199,4499,4999,1629,3799,6629,4699,2999,4699,4499,4499,7899,3499,6799,2649,4029,8499,5999,2229,7899,5999,3799,3029,6519,9499,8399,4499,3499,1499,5199,5899,6799,3999,6999,3399,7099,4399,11499,1579,4299,10399,4299,4029,2529,2199,9499,1629,11399,5199,6019,8499,2699,7499,5199,3399,9499,4529,6999,2399,7899,2319,7099,1929,2229,1499,5999,6499,8499,4699,3729,5199,2399,5199,11299,4999,1899,5999,2799,7899,5799,6899,10899,4499,7329,2399,2099,6199,5499,6299,3299,3449,3399,8499,4799,6499,2999,7799,6999,1849,9399,7899,5699,3049,6799,4299,2799,6899,1629,2999,7499,5999,5199,5699,2999,5999,5199,5029,2799,2499,5799],\"y0\":\" \",\"yaxis\":\"y\",\"type\":\"box\"}],                        {\"template\":{\"data\":{\"histogram2dcontour\":[{\"type\":\"histogram2dcontour\",\"colorbar\":{\"outlinewidth\":0,\"ticks\":\"\"},\"colorscale\":[[0.0,\"#0d0887\"],[0.1111111111111111,\"#46039f\"],[0.2222222222222222,\"#7201a8\"],[0.3333333333333333,\"#9c179e\"],[0.4444444444444444,\"#bd3786\"],[0.5555555555555556,\"#d8576b\"],[0.6666666666666666,\"#ed7953\"],[0.7777777777777778,\"#fb9f3a\"],[0.8888888888888888,\"#fdca26\"],[1.0,\"#f0f921\"]]}],\"choropleth\":[{\"type\":\"choropleth\",\"colorbar\":{\"outlinewidth\":0,\"ticks\":\"\"}}],\"histogram2d\":[{\"type\":\"histogram2d\",\"colorbar\":{\"outlinewidth\":0,\"ticks\":\"\"},\"colorscale\":[[0.0,\"#0d0887\"],[0.1111111111111111,\"#46039f\"],[0.2222222222222222,\"#7201a8\"],[0.3333333333333333,\"#9c179e\"],[0.4444444444444444,\"#bd3786\"],[0.5555555555555556,\"#d8576b\"],[0.6666666666666666,\"#ed7953\"],[0.7777777777777778,\"#fb9f3a\"],[0.8888888888888888,\"#fdca26\"],[1.0,\"#f0f921\"]]}],\"heatmap\":[{\"type\":\"heatmap\",\"colorbar\":{\"outlinewidth\":0,\"ticks\":\"\"},\"colorscale\":[[0.0,\"#0d0887\"],[0.1111111111111111,\"#46039f\"],[0.2222222222222222,\"#7201a8\"],[0.3333333333333333,\"#9c179e\"],[0.4444444444444444,\"#bd3786\"],[0.5555555555555556,\"#d8576b\"],[0.6666666666666666,\"#ed7953\"],[0.7777777777777778,\"#fb9f3a\"],[0.8888888888888888,\"#fdca26\"],[1.0,\"#f0f921\"]]}],\"heatmapgl\":[{\"type\":\"heatmapgl\",\"colorbar\":{\"outlinewidth\":0,\"ticks\":\"\"},\"colorscale\":[[0.0,\"#0d0887\"],[0.1111111111111111,\"#46039f\"],[0.2222222222222222,\"#7201a8\"],[0.3333333333333333,\"#9c179e\"],[0.4444444444444444,\"#bd3786\"],[0.5555555555555556,\"#d8576b\"],[0.6666666666666666,\"#ed7953\"],[0.7777777777777778,\"#fb9f3a\"],[0.8888888888888888,\"#fdca26\"],[1.0,\"#f0f921\"]]}],\"contourcarpet\":[{\"type\":\"contourcarpet\",\"colorbar\":{\"outlinewidth\":0,\"ticks\":\"\"}}],\"contour\":[{\"type\":\"contour\",\"colorbar\":{\"outlinewidth\":0,\"ticks\":\"\"},\"colorscale\":[[0.0,\"#0d0887\"],[0.1111111111111111,\"#46039f\"],[0.2222222222222222,\"#7201a8\"],[0.3333333333333333,\"#9c179e\"],[0.4444444444444444,\"#bd3786\"],[0.5555555555555556,\"#d8576b\"],[0.6666666666666666,\"#ed7953\"],[0.7777777777777778,\"#fb9f3a\"],[0.8888888888888888,\"#fdca26\"],[1.0,\"#f0f921\"]]}],\"surface\":[{\"type\":\"surface\",\"colorbar\":{\"outlinewidth\":0,\"ticks\":\"\"},\"colorscale\":[[0.0,\"#0d0887\"],[0.1111111111111111,\"#46039f\"],[0.2222222222222222,\"#7201a8\"],[0.3333333333333333,\"#9c179e\"],[0.4444444444444444,\"#bd3786\"],[0.5555555555555556,\"#d8576b\"],[0.6666666666666666,\"#ed7953\"],[0.7777777777777778,\"#fb9f3a\"],[0.8888888888888888,\"#fdca26\"],[1.0,\"#f0f921\"]]}],\"mesh3d\":[{\"type\":\"mesh3d\",\"colorbar\":{\"outlinewidth\":0,\"ticks\":\"\"}}],\"scatter\":[{\"fillpattern\":{\"fillmode\":\"overlay\",\"size\":10,\"solidity\":0.2},\"type\":\"scatter\"}],\"parcoords\":[{\"type\":\"parcoords\",\"line\":{\"colorbar\":{\"outlinewidth\":0,\"ticks\":\"\"}}}],\"scatterpolargl\":[{\"type\":\"scatterpolargl\",\"marker\":{\"colorbar\":{\"outlinewidth\":0,\"ticks\":\"\"}}}],\"bar\":[{\"error_x\":{\"color\":\"#2a3f5f\"},\"error_y\":{\"color\":\"#2a3f5f\"},\"marker\":{\"line\":{\"color\":\"#E5ECF6\",\"width\":0.5},\"pattern\":{\"fillmode\":\"overlay\",\"size\":10,\"solidity\":0.2}},\"type\":\"bar\"}],\"scattergeo\":[{\"type\":\"scattergeo\",\"marker\":{\"colorbar\":{\"outlinewidth\":0,\"ticks\":\"\"}}}],\"scatterpolar\":[{\"type\":\"scatterpolar\",\"marker\":{\"colorbar\":{\"outlinewidth\":0,\"ticks\":\"\"}}}],\"histogram\":[{\"marker\":{\"pattern\":{\"fillmode\":\"overlay\",\"size\":10,\"solidity\":0.2}},\"type\":\"histogram\"}],\"scattergl\":[{\"type\":\"scattergl\",\"marker\":{\"colorbar\":{\"outlinewidth\":0,\"ticks\":\"\"}}}],\"scatter3d\":[{\"type\":\"scatter3d\",\"line\":{\"colorbar\":{\"outlinewidth\":0,\"ticks\":\"\"}},\"marker\":{\"colorbar\":{\"outlinewidth\":0,\"ticks\":\"\"}}}],\"scattermapbox\":[{\"type\":\"scattermapbox\",\"marker\":{\"colorbar\":{\"outlinewidth\":0,\"ticks\":\"\"}}}],\"scatterternary\":[{\"type\":\"scatterternary\",\"marker\":{\"colorbar\":{\"outlinewidth\":0,\"ticks\":\"\"}}}],\"scattercarpet\":[{\"type\":\"scattercarpet\",\"marker\":{\"colorbar\":{\"outlinewidth\":0,\"ticks\":\"\"}}}],\"carpet\":[{\"aaxis\":{\"endlinecolor\":\"#2a3f5f\",\"gridcolor\":\"white\",\"linecolor\":\"white\",\"minorgridcolor\":\"white\",\"startlinecolor\":\"#2a3f5f\"},\"baxis\":{\"endlinecolor\":\"#2a3f5f\",\"gridcolor\":\"white\",\"linecolor\":\"white\",\"minorgridcolor\":\"white\",\"startlinecolor\":\"#2a3f5f\"},\"type\":\"carpet\"}],\"table\":[{\"cells\":{\"fill\":{\"color\":\"#EBF0F8\"},\"line\":{\"color\":\"white\"}},\"header\":{\"fill\":{\"color\":\"#C8D4E3\"},\"line\":{\"color\":\"white\"}},\"type\":\"table\"}],\"barpolar\":[{\"marker\":{\"line\":{\"color\":\"#E5ECF6\",\"width\":0.5},\"pattern\":{\"fillmode\":\"overlay\",\"size\":10,\"solidity\":0.2}},\"type\":\"barpolar\"}],\"pie\":[{\"automargin\":true,\"type\":\"pie\"}]},\"layout\":{\"autotypenumbers\":\"strict\",\"colorway\":[\"#636efa\",\"#EF553B\",\"#00cc96\",\"#ab63fa\",\"#FFA15A\",\"#19d3f3\",\"#FF6692\",\"#B6E880\",\"#FF97FF\",\"#FECB52\"],\"font\":{\"color\":\"#2a3f5f\"},\"hovermode\":\"closest\",\"hoverlabel\":{\"align\":\"left\"},\"paper_bgcolor\":\"white\",\"plot_bgcolor\":\"#E5ECF6\",\"polar\":{\"bgcolor\":\"#E5ECF6\",\"angularaxis\":{\"gridcolor\":\"white\",\"linecolor\":\"white\",\"ticks\":\"\"},\"radialaxis\":{\"gridcolor\":\"white\",\"linecolor\":\"white\",\"ticks\":\"\"}},\"ternary\":{\"bgcolor\":\"#E5ECF6\",\"aaxis\":{\"gridcolor\":\"white\",\"linecolor\":\"white\",\"ticks\":\"\"},\"baxis\":{\"gridcolor\":\"white\",\"linecolor\":\"white\",\"ticks\":\"\"},\"caxis\":{\"gridcolor\":\"white\",\"linecolor\":\"white\",\"ticks\":\"\"}},\"coloraxis\":{\"colorbar\":{\"outlinewidth\":0,\"ticks\":\"\"}},\"colorscale\":{\"sequential\":[[0.0,\"#0d0887\"],[0.1111111111111111,\"#46039f\"],[0.2222222222222222,\"#7201a8\"],[0.3333333333333333,\"#9c179e\"],[0.4444444444444444,\"#bd3786\"],[0.5555555555555556,\"#d8576b\"],[0.6666666666666666,\"#ed7953\"],[0.7777777777777778,\"#fb9f3a\"],[0.8888888888888888,\"#fdca26\"],[1.0,\"#f0f921\"]],\"sequentialminus\":[[0.0,\"#0d0887\"],[0.1111111111111111,\"#46039f\"],[0.2222222222222222,\"#7201a8\"],[0.3333333333333333,\"#9c179e\"],[0.4444444444444444,\"#bd3786\"],[0.5555555555555556,\"#d8576b\"],[0.6666666666666666,\"#ed7953\"],[0.7777777777777778,\"#fb9f3a\"],[0.8888888888888888,\"#fdca26\"],[1.0,\"#f0f921\"]],\"diverging\":[[0,\"#8e0152\"],[0.1,\"#c51b7d\"],[0.2,\"#de77ae\"],[0.3,\"#f1b6da\"],[0.4,\"#fde0ef\"],[0.5,\"#f7f7f7\"],[0.6,\"#e6f5d0\"],[0.7,\"#b8e186\"],[0.8,\"#7fbc41\"],[0.9,\"#4d9221\"],[1,\"#276419\"]]},\"xaxis\":{\"gridcolor\":\"white\",\"linecolor\":\"white\",\"ticks\":\"\",\"title\":{\"standoff\":15},\"zerolinecolor\":\"white\",\"automargin\":true,\"zerolinewidth\":2},\"yaxis\":{\"gridcolor\":\"white\",\"linecolor\":\"white\",\"ticks\":\"\",\"title\":{\"standoff\":15},\"zerolinecolor\":\"white\",\"automargin\":true,\"zerolinewidth\":2},\"scene\":{\"xaxis\":{\"backgroundcolor\":\"#E5ECF6\",\"gridcolor\":\"white\",\"linecolor\":\"white\",\"showbackground\":true,\"ticks\":\"\",\"zerolinecolor\":\"white\",\"gridwidth\":2},\"yaxis\":{\"backgroundcolor\":\"#E5ECF6\",\"gridcolor\":\"white\",\"linecolor\":\"white\",\"showbackground\":true,\"ticks\":\"\",\"zerolinecolor\":\"white\",\"gridwidth\":2},\"zaxis\":{\"backgroundcolor\":\"#E5ECF6\",\"gridcolor\":\"white\",\"linecolor\":\"white\",\"showbackground\":true,\"ticks\":\"\",\"zerolinecolor\":\"white\",\"gridwidth\":2}},\"shapedefaults\":{\"line\":{\"color\":\"#2a3f5f\"}},\"annotationdefaults\":{\"arrowcolor\":\"#2a3f5f\",\"arrowhead\":0,\"arrowwidth\":1},\"geo\":{\"bgcolor\":\"white\",\"landcolor\":\"#E5ECF6\",\"subunitcolor\":\"white\",\"showland\":true,\"showlakes\":true,\"lakecolor\":\"white\"},\"title\":{\"x\":0.05},\"mapbox\":{\"style\":\"light\"}}},\"xaxis\":{\"anchor\":\"y\",\"domain\":[0.0,1.0]},\"yaxis\":{\"anchor\":\"x\",\"domain\":[0.0,1.0],\"title\":{\"text\":\"Product Price\"}},\"legend\":{\"tracegroupgap\":0},\"title\":{\"text\":\"Outlier Detection in Product Price\"},\"boxmode\":\"group\"},                        {\"responsive\": true}                    ).then(function(){\n",
       "                            \n",
       "var gd = document.getElementById('a9dca893-9783-417d-9ac8-8c96bb8d453a');\n",
       "var x = new MutationObserver(function (mutations, observer) {{\n",
       "        var display = window.getComputedStyle(gd).display;\n",
       "        if (!display || display === 'none') {{\n",
       "            console.log([gd, 'removed!']);\n",
       "            Plotly.purge(gd);\n",
       "            observer.disconnect();\n",
       "        }}\n",
       "}});\n",
       "\n",
       "// Listen for the removal of the full notebook cells\n",
       "var notebookContainer = gd.closest('#notebook-container');\n",
       "if (notebookContainer) {{\n",
       "    x.observe(notebookContainer, {childList: true});\n",
       "}}\n",
       "\n",
       "// Listen for the clearing of the current output cell\n",
       "var outputEl = gd.closest('.output');\n",
       "if (outputEl) {{\n",
       "    x.observe(outputEl, {childList: true});\n",
       "}}\n",
       "\n",
       "                        })                };                });            </script>        </div>"
      ]
     },
     "metadata": {},
     "output_type": "display_data"
    }
   ],
   "source": [
    "import plotly.express as px\n",
    "\n",
    "# Creating a box plot to check for outliers in the 'Product Price' column\n",
    "fig = px.box(df, y='Product Price', title='Outlier Detection in Product Price')\n",
    "fig.show()\n"
   ]
  },
  {
   "cell_type": "code",
   "execution_count": 413,
   "metadata": {},
   "outputs": [],
   "source": [
    "# Calculate Q1 (25th percentile) and Q3 (75th percentile)\n",
    "Q1 = df['Product Price'].quantile(0.25)\n",
    "Q3 = df['Product Price'].quantile(0.75)\n",
    "\n",
    "# Calculate the IQR by subtracting Q1 from Q3\n",
    "IQR = Q3 - Q1\n",
    "\n",
    "# Define the lower and upper bounds for the outliers\n",
    "lower_bound = Q1 - 1.5 * IQR\n",
    "upper_bound = Q3 + 1.5 * IQR\n",
    "\n",
    "# # Filter out outliers\n",
    "df[(df['Product Price'] < lower_bound) | (df['Product Price'] > upper_bound)]\n",
    "\n",
    "# Keep only rows that are not outliers\n",
    "df = df[(df['Product Price'] >= lower_bound) & (df['Product Price'] <= upper_bound)]"
   ]
  },
  {
   "cell_type": "markdown",
   "metadata": {},
   "source": [
    "- corr"
   ]
  },
  {
   "cell_type": "code",
   "execution_count": null,
   "metadata": {},
   "outputs": [],
   "source": [
    "import matplotlib.pyplot as plt\n",
    "import seaborn as sns\n",
    "\n",
    "# Calculate the correlation matrix for the numerical columns\n",
    "correlation_matrix = ghadah_df[[)'OverallQual', 'OverallCond', 'YearBuilt', 'YearRemodAdd', \n",
    "                                'MasVnrArea', 'BsmtFinSF1', 'BsmtFinSF2', 'BsmtUnfSF', \n",
    "                                'TotalBsmtSF', 'SalePrice']].corr()\n",
    "\n",
    "# Plot the heatmap using Seaborn with the specified size and layout\n",
    "fig, ax = plt.subplots()\n",
    "fig.set_size_inches(15, 10)\n",
    "sns.heatmap(correlation_matrix, square=True, annot=True, cmap=\"coolwarm\", ax=ax)\n",
    "plt.title(\"Correlation Heatmap of Numerical Features with SalePrice\")\n",
    "plt.show()"
   ]
  },
  {
   "cell_type": "markdown",
   "metadata": {},
   "source": [
    "- Univariate Analysis"
   ]
  },
  {
   "cell_type": "code",
   "execution_count": 417,
   "metadata": {},
   "outputs": [
    {
     "data": {
      "image/png": "[encoded data removed]",
      "text/plain": [
       "<Figure size 1400x1000 with 4 Axes>"
      ]
     },
     "metadata": {},
     "output_type": "display_data"
    },
    {
     "data": {
      "text/html": [
       "<div>\n",
       "<style scoped>\n",
       "    .dataframe tbody tr th:only-of-type {\n",
       "        vertical-align: middle;\n",
       "    }\n",
       "\n",
       "    .dataframe tbody tr th {\n",
       "        vertical-align: top;\n",
       "    }\n",
       "\n",
       "    .dataframe thead th {\n",
       "        text-align: right;\n",
       "    }\n",
       "</style>\n",
       "<table border=\"1\" class=\"dataframe\">\n",
       "  <thead>\n",
       "    <tr style=\"text-align: right;\">\n",
       "      <th></th>\n",
       "      <th>Product Price</th>\n",
       "      <th>display size</th>\n",
       "    </tr>\n",
       "  </thead>\n",
       "  <tbody>\n",
       "    <tr>\n",
       "      <th>count</th>\n",
       "      <td>187.000000</td>\n",
       "      <td>187.000000</td>\n",
       "    </tr>\n",
       "    <tr>\n",
       "      <th>mean</th>\n",
       "      <td>5167.021390</td>\n",
       "      <td>14.529947</td>\n",
       "    </tr>\n",
       "    <tr>\n",
       "      <th>std</th>\n",
       "      <td>2369.150031</td>\n",
       "      <td>0.872373</td>\n",
       "    </tr>\n",
       "    <tr>\n",
       "      <th>min</th>\n",
       "      <td>1499.000000</td>\n",
       "      <td>12.400000</td>\n",
       "    </tr>\n",
       "    <tr>\n",
       "      <th>25%</th>\n",
       "      <td>3214.000000</td>\n",
       "      <td>14.000000</td>\n",
       "    </tr>\n",
       "    <tr>\n",
       "      <th>50%</th>\n",
       "      <td>4999.000000</td>\n",
       "      <td>14.200000</td>\n",
       "    </tr>\n",
       "    <tr>\n",
       "      <th>75%</th>\n",
       "      <td>6799.000000</td>\n",
       "      <td>15.450000</td>\n",
       "    </tr>\n",
       "    <tr>\n",
       "      <th>max</th>\n",
       "      <td>11499.000000</td>\n",
       "      <td>16.000000</td>\n",
       "    </tr>\n",
       "  </tbody>\n",
       "</table>\n",
       "</div>"
      ],
      "text/plain": [
       "       Product Price  display size\n",
       "count     187.000000    187.000000\n",
       "mean     5167.021390     14.529947\n",
       "std      2369.150031      0.872373\n",
       "min      1499.000000     12.400000\n",
       "25%      3214.000000     14.000000\n",
       "50%      4999.000000     14.200000\n",
       "75%      6799.000000     15.450000\n",
       "max     11499.000000     16.000000"
      ]
     },
     "execution_count": 417,
     "metadata": {},
     "output_type": "execute_result"
    }
   ],
   "source": [
    "# Setting up the figure for visualizations\n",
    "plt.figure(figsize=(14, 10))\n",
    "\n",
    "# Univariate Analysis for 'Product Price'\n",
    "plt.subplot(2, 2, 1)\n",
    "sns.histplot(df['Product Price'].dropna(), kde=True, bins=30, color='blue')\n",
    "plt.title('Distribution of Product Price')\n",
    "plt.xlabel('Product Price (SAR)')\n",
    "plt.ylabel('Frequency')\n",
    "\n",
    "plt.subplot(2, 2, 2)\n",
    "sns.boxplot(x=df['Product Price'], color='lightblue')\n",
    "plt.title('Box Plot of Product Price')\n",
    "\n",
    "# Univariate Analysis for 'display size'\n",
    "plt.subplot(2, 2, 3)\n",
    "sns.histplot(df['display size'].dropna(), kde=True, bins=20, color='green')\n",
    "plt.title('Distribution of Display Size')\n",
    "plt.xlabel('Display Size (inches)')\n",
    "plt.ylabel('Frequency')\n",
    "\n",
    "plt.subplot(2, 2, 4)\n",
    "sns.boxplot(x=df['display size'], color='lightgreen')\n",
    "plt.title('Box Plot of Display Size')\n",
    "\n",
    "plt.tight_layout()\n",
    "plt.show()\n",
    "\n",
    "# Calculating the statistical summary for 'Product Price' and 'display size'\n",
    "stats_summary = df[['Product Price', 'display size']].describe()\n",
    "stats_summary\n"
   ]
  },
  {
   "cell_type": "code",
   "execution_count": 423,
   "metadata": {},
   "outputs": [
    {
     "data": {
      "image/png": "[encoded data removed]",
      "text/plain": [
       "<Figure size 1600x800 with 2 Axes>"
      ]
     },
     "metadata": {},
     "output_type": "display_data"
    }
   ],
   "source": [
    "# Creating pie charts for categorical variables with fewer unique categories\n",
    "plt.figure(figsize=(16, 8))\n",
    "\n",
    "# Filtering categorical columns with a manageable number of unique categories for pie charts\n",
    "for i, col in enumerate(['Accesorises warranty', 'Warranted by']):\n",
    "    plt.subplot(1, 2, i + 1)\n",
    "    value_counts = df[col].value_counts()\n",
    "    plt.pie(value_counts, labels=value_counts.index, autopct='%1.1f%%', colors=plt.cm.Paired.colors)\n",
    "    plt.title(f'Pie Chart of {col}')\n",
    "\n",
    "plt.tight_layout()\n",
    "plt.show()\n"
   ]
  },
  {
   "cell_type": "code",
   "execution_count": 425,
   "metadata": {},
   "outputs": [
    {
     "data": {
      "image/png": "[encoded data removed]",
      "text/plain": [
       "<Figure size 1600x800 with 1 Axes>"
      ]
     },
     "metadata": {},
     "output_type": "display_data"
    }
   ],
   "source": [
    "# Creating a bar chart to visualize the frequency distribution of 'Product Title'\n",
    "plt.figure(figsize=(16, 8))\n",
    "product_title_counts = df['Product Title'].value_counts().head(20)  # Displaying the top 20 most frequent titles\n",
    "\n",
    "# Bar chart for Product Title\n",
    "plt.bar(product_title_counts.index, product_title_counts.values, color='lightblue')\n",
    "plt.title('Top 20 Product Titles by Frequency')\n",
    "plt.xlabel('Product Title')\n",
    "plt.ylabel('Frequency')\n",
    "plt.xticks(rotation=45, ha='right')\n",
    "plt.tight_layout()\n",
    "plt.show()\n"
   ]
  },
  {
   "cell_type": "markdown",
   "metadata": {},
   "source": [
    "- Bivariate Analysis with the Target Variable (SalePrice)"
   ]
  },
  {
   "cell_type": "code",
   "execution_count": 430,
   "metadata": {},
   "outputs": [
    {
     "data": {
      "image/png": "[encoded data removed]",
      "text/plain": [
       "<Figure size 1000x600 with 1 Axes>"
      ]
     },
     "metadata": {},
     "output_type": "display_data"
    },
    {
     "data": {
      "image/png": "[encoded data removed]",
      "text/plain": [
       "<Figure size 1200x600 with 1 Axes>"
      ]
     },
     "metadata": {},
     "output_type": "display_data"
    },
    {
     "data": {
      "image/png": "[encoded data removed]",
      "text/plain": [
       "<Figure size 1000x600 with 1 Axes>"
      ]
     },
     "metadata": {},
     "output_type": "display_data"
    }
   ],
   "source": [
    "import seaborn as sns\n",
    "import matplotlib.pyplot as plt\n",
    "\n",
    "# Bivariate Analysis Code Examples\n",
    "\n",
    "# 1. Categorical & Categorical: Stacked Bar Chart\n",
    "plt.figure(figsize=(10, 6))\n",
    "sns.countplot(data=df, x='Accesorises warranty', hue='Warranted by', palette='Set2')\n",
    "plt.title('Stacked Bar Chart: Accesorises Warranty vs Warranted by')\n",
    "plt.xlabel('Accesorises Warranty')\n",
    "plt.ylabel('Count')\n",
    "plt.legend(title='Warranted by')\n",
    "plt.show()\n",
    "\n",
    "# 2. Categorical & Numerical: Box Plot\n",
    "plt.figure(figsize=(12, 6))\n",
    "sns.boxplot(data=df, x='Warranted by', y='Product Price', palette='Set3')\n",
    "plt.title('Box Plot: Product Price by Warranted by')\n",
    "plt.xlabel('Warranted by')\n",
    "plt.ylabel('Product Price (SAR)')\n",
    "plt.show()\n",
    "\n",
    "# 3. Numerical & Numerical: Scatter Plot\n",
    "plt.figure(figsize=(10, 6))\n",
    "sns.scatterplot(data=df, x='Product Price', y='SKU', color='darkblue')\n",
    "plt.title('Scatter Plot: Product Price vs SKU')\n",
    "plt.xlabel('Product Price (SAR)')\n",
    "plt.ylabel('SKU')\n",
    "plt.show()\n"
   ]
  },
  {
   "cell_type": "code",
   "execution_count": 432,
   "metadata": {},
   "outputs": [
    {
     "data": {
      "text/html": [
       "<div>\n",
       "<style scoped>\n",
       "    .dataframe tbody tr th:only-of-type {\n",
       "        vertical-align: middle;\n",
       "    }\n",
       "\n",
       "    .dataframe tbody tr th {\n",
       "        vertical-align: top;\n",
       "    }\n",
       "\n",
       "    .dataframe thead th {\n",
       "        text-align: right;\n",
       "    }\n",
       "</style>\n",
       "<table border=\"1\" class=\"dataframe\">\n",
       "  <thead>\n",
       "    <tr style=\"text-align: right;\">\n",
       "      <th></th>\n",
       "      <th>Product Title</th>\n",
       "      <th>Product Price</th>\n",
       "      <th>Warranty Period (Months)</th>\n",
       "      <th>Accesorises warranty</th>\n",
       "      <th>Warranted by</th>\n",
       "      <th>SKU</th>\n",
       "      <th>Manufacturer Number</th>\n",
       "      <th>processor type</th>\n",
       "      <th>NPU (Neural Processing Unit)</th>\n",
       "      <th>AI (Artificial Intelligence)</th>\n",
       "      <th>...</th>\n",
       "      <th>cam resolution</th>\n",
       "      <th>multimedia features</th>\n",
       "      <th>special features</th>\n",
       "      <th>fingerprint</th>\n",
       "      <th>battery type</th>\n",
       "      <th>width</th>\n",
       "      <th>height/length</th>\n",
       "      <th>depth</th>\n",
       "      <th>weight</th>\n",
       "      <th>card reader</th>\n",
       "    </tr>\n",
       "  </thead>\n",
       "  <tbody>\n",
       "    <tr>\n",
       "      <th>0</th>\n",
       "      <td>Huawei MateBook 14 Laptop</td>\n",
       "      <td>4299</td>\n",
       "      <td>24.0</td>\n",
       "      <td>12 Months</td>\n",
       "      <td>Manufacturer</td>\n",
       "      <td>638525.0</td>\n",
       "      <td>53014ASK</td>\n",
       "      <td>Intel Core Ultra 5 125H</td>\n",
       "      <td>Intel AI Boost</td>\n",
       "      <td>Yes</td>\n",
       "      <td>...</td>\n",
       "      <td>FHD (2 MP) Webcam</td>\n",
       "      <td>Built-in Mic/Speakers</td>\n",
       "      <td>Full Size Keyboard</td>\n",
       "      <td>Yes</td>\n",
       "      <td>Lithium Polymer (Li-Po)</td>\n",
       "      <td>312.60 mm ( 12.31 in )</td>\n",
       "      <td>226.80 mm ( 8.93 in )</td>\n",
       "      <td>15.90 mm ( .63 in )</td>\n",
       "      <td>1.31 kg ( 2.89 lb )</td>\n",
       "      <td>No</td>\n",
       "    </tr>\n",
       "    <tr>\n",
       "      <th>1</th>\n",
       "      <td>Apple MacBook Air 15 M3 Laptop</td>\n",
       "      <td>5999</td>\n",
       "      <td>24.0</td>\n",
       "      <td>12 Months</td>\n",
       "      <td>Manufacturer</td>\n",
       "      <td>646475.0</td>\n",
       "      <td>MC9D4ABA</td>\n",
       "      <td>M3 8-core CPU</td>\n",
       "      <td>16-core Neural Engine</td>\n",
       "      <td>Yes</td>\n",
       "      <td>...</td>\n",
       "      <td>1080p FaceTime HD Camera</td>\n",
       "      <td>Built-in Mic/Speakers</td>\n",
       "      <td>Not Applicable</td>\n",
       "      <td>Yes</td>\n",
       "      <td>Lithium Polymer (Li-Po)</td>\n",
       "      <td>34.04 cm ( 13.40 in )</td>\n",
       "      <td>23.76 cm ( 9.35 in )</td>\n",
       "      <td>1.15 cm ( .45 in )</td>\n",
       "      <td>1.51 kg ( 3.33 lb )</td>\n",
       "      <td>No</td>\n",
       "    </tr>\n",
       "    <tr>\n",
       "      <th>2</th>\n",
       "      <td>Apple MacBook Air 15 M3 Laptop</td>\n",
       "      <td>5999</td>\n",
       "      <td>24.0</td>\n",
       "      <td>12 Months</td>\n",
       "      <td>Manufacturer</td>\n",
       "      <td>632673.0</td>\n",
       "      <td>MRYR3ABA</td>\n",
       "      <td>M3 8-core CPU</td>\n",
       "      <td>16-core Neural Engine</td>\n",
       "      <td>Yes</td>\n",
       "      <td>...</td>\n",
       "      <td>1080p FaceTime HD Camera</td>\n",
       "      <td>Built-in Mic/Speakers</td>\n",
       "      <td>Not Applicable</td>\n",
       "      <td>Yes</td>\n",
       "      <td>Lithium Polymer (Li-Po)</td>\n",
       "      <td>34.04 cm ( 13.40 in )</td>\n",
       "      <td>23.76 cm ( 9.35 in )</td>\n",
       "      <td>1.15 cm ( .45 in )</td>\n",
       "      <td>1.51 kg ( 3.33 lb )</td>\n",
       "      <td>No</td>\n",
       "    </tr>\n",
       "    <tr>\n",
       "      <th>3</th>\n",
       "      <td>Asus Laptop</td>\n",
       "      <td>3799</td>\n",
       "      <td>24.0</td>\n",
       "      <td>12 Months</td>\n",
       "      <td>Manufacturer</td>\n",
       "      <td>642879.0</td>\n",
       "      <td>UM3406OLEDR7W</td>\n",
       "      <td>AMD Ryzen 7-8840HS</td>\n",
       "      <td>AMD XDNA up to 16 TOPS</td>\n",
       "      <td>Yes</td>\n",
       "      <td>...</td>\n",
       "      <td>1080P FHD Camera</td>\n",
       "      <td>Harman Kardon</td>\n",
       "      <td>Backlit Chiclet Keyboard</td>\n",
       "      <td>Yes</td>\n",
       "      <td>Lithium Ion (Li-Ion) - 4 Cell</td>\n",
       "      <td>32.24 cm ( 12.69 in )</td>\n",
       "      <td>22.01 cm ( 8.67 in )</td>\n",
       "      <td>1.49 cm ( .59 in )</td>\n",
       "      <td>1.20 kg ( 2.65 lb )</td>\n",
       "      <td>Yes</td>\n",
       "    </tr>\n",
       "    <tr>\n",
       "      <th>4</th>\n",
       "      <td>Microsoft Surface Laptop 7 Laptop</td>\n",
       "      <td>9699</td>\n",
       "      <td>24.0</td>\n",
       "      <td>Not Applicable</td>\n",
       "      <td>JARIR</td>\n",
       "      <td>639206.0</td>\n",
       "      <td>ZHI00014</td>\n",
       "      <td>Snapdragon X Elite 12 Core</td>\n",
       "      <td>Qualcomm Hexagon NPU 45 TOPS</td>\n",
       "      <td>Yes</td>\n",
       "      <td>...</td>\n",
       "      <td>1080P FHD Camera</td>\n",
       "      <td>Not Applicable</td>\n",
       "      <td>CoPilot+</td>\n",
       "      <td>No</td>\n",
       "      <td>Lithium Ion (Li-Ion) - 6 Cell</td>\n",
       "      <td>32.90 cm ( 12.95 in )</td>\n",
       "      <td>23.90 cm ( 9.41 in )</td>\n",
       "      <td>1.80 cm ( .71 in )</td>\n",
       "      <td>1.60 kg ( 3.53 lb )</td>\n",
       "      <td>No</td>\n",
       "    </tr>\n",
       "    <tr>\n",
       "      <th>...</th>\n",
       "      <td>...</td>\n",
       "      <td>...</td>\n",
       "      <td>...</td>\n",
       "      <td>...</td>\n",
       "      <td>...</td>\n",
       "      <td>...</td>\n",
       "      <td>...</td>\n",
       "      <td>...</td>\n",
       "      <td>...</td>\n",
       "      <td>...</td>\n",
       "      <td>...</td>\n",
       "      <td>...</td>\n",
       "      <td>...</td>\n",
       "      <td>...</td>\n",
       "      <td>...</td>\n",
       "      <td>...</td>\n",
       "      <td>...</td>\n",
       "      <td>...</td>\n",
       "      <td>...</td>\n",
       "      <td>...</td>\n",
       "      <td>...</td>\n",
       "    </tr>\n",
       "    <tr>\n",
       "      <th>200</th>\n",
       "      <td>Apple MacBook Air 13 M3 Laptop</td>\n",
       "      <td>5199</td>\n",
       "      <td>24.0</td>\n",
       "      <td>12 Months</td>\n",
       "      <td>Manufacturer</td>\n",
       "      <td>646468.0</td>\n",
       "      <td>MC8J4ABA</td>\n",
       "      <td>M3 8-core CPU</td>\n",
       "      <td>16-core Neural Engine</td>\n",
       "      <td>Yes</td>\n",
       "      <td>...</td>\n",
       "      <td>1080p FaceTime HD Camera</td>\n",
       "      <td>Built-in Mic/Speakers</td>\n",
       "      <td>Not Applicable</td>\n",
       "      <td>Yes</td>\n",
       "      <td>Lithium Polymer (Li-Po)</td>\n",
       "      <td>30.41 cm ( 11.97 in )</td>\n",
       "      <td>21.50 cm ( 8.46 in )</td>\n",
       "      <td>1.10 cm ( .43 in )</td>\n",
       "      <td>1.24 kg ( 2.73 lb )</td>\n",
       "      <td>No</td>\n",
       "    </tr>\n",
       "    <tr>\n",
       "      <th>201</th>\n",
       "      <td>Lenovo IdeaPad Pro 5 Laptop</td>\n",
       "      <td>5029</td>\n",
       "      <td>24.0</td>\n",
       "      <td>12 Months</td>\n",
       "      <td>Manufacturer</td>\n",
       "      <td>631066.0</td>\n",
       "      <td>83D4004NAD</td>\n",
       "      <td>Intel Core Ultra 7 155H</td>\n",
       "      <td>Not Applicable</td>\n",
       "      <td>No</td>\n",
       "      <td>...</td>\n",
       "      <td>FHD 1080p + IR with Privacy Shutter</td>\n",
       "      <td>Dolby Atmos Sound System, (2 X 2W) Speakers</td>\n",
       "      <td>High Definition Audio, Realtek ALC3287 Codec, ...</td>\n",
       "      <td>No</td>\n",
       "      <td>Lithium Polymer (Li-Po)</td>\n",
       "      <td>35.60 cm ( 14.02 in )</td>\n",
       "      <td>25.10 cm ( 9.88 in )</td>\n",
       "      <td>1.75 cm ( .69 in )</td>\n",
       "      <td>1.94 kg ( 4.28 lb )</td>\n",
       "      <td>Yes</td>\n",
       "    </tr>\n",
       "    <tr>\n",
       "      <th>202</th>\n",
       "      <td>Huawei MateBook D 14 Laptop</td>\n",
       "      <td>2799</td>\n",
       "      <td>24.0</td>\n",
       "      <td>12 Months</td>\n",
       "      <td>Manufacturer</td>\n",
       "      <td>608551.0</td>\n",
       "      <td>NBDEWDH9</td>\n",
       "      <td>Intel Core i5-1155G7 (11th Gen)</td>\n",
       "      <td>Not Applicable</td>\n",
       "      <td>No</td>\n",
       "      <td>...</td>\n",
       "      <td>720P HD Recessed Camera</td>\n",
       "      <td>2 X 2W Speakers</td>\n",
       "      <td>Low Blue Light, Flicker Free</td>\n",
       "      <td>Yes</td>\n",
       "      <td>Lithium Polymer (Li-Po) - 4 Cell</td>\n",
       "      <td>32.25 cm ( 12.70 in )</td>\n",
       "      <td>21.48 cm ( 8.46 in )</td>\n",
       "      <td>1.59 cm ( .63 in )</td>\n",
       "      <td>1.38 kg ( 3.04 lb )</td>\n",
       "      <td>No</td>\n",
       "    </tr>\n",
       "    <tr>\n",
       "      <th>203</th>\n",
       "      <td>Dell Vostro 3520 Laptop</td>\n",
       "      <td>2499</td>\n",
       "      <td>24.0</td>\n",
       "      <td>12 Months</td>\n",
       "      <td>Manufacturer</td>\n",
       "      <td>646301.0</td>\n",
       "      <td>VOSTROI5</td>\n",
       "      <td>Intel Core i5-1235U (12th Gen)</td>\n",
       "      <td>Not Applicable</td>\n",
       "      <td>No</td>\n",
       "      <td>...</td>\n",
       "      <td>720p HD Camera</td>\n",
       "      <td>Built-in Dual Stereo Speakers</td>\n",
       "      <td>Not Applicable</td>\n",
       "      <td>Yes</td>\n",
       "      <td>Lithium Ion (Li-Ion) - 3 Cell</td>\n",
       "      <td>35.85 cm ( 14.11 in )</td>\n",
       "      <td>23.56 cm ( 9.28 in )</td>\n",
       "      <td>2.25 cm ( .89 in )</td>\n",
       "      <td>1.66 kg ( 3.66 lb )</td>\n",
       "      <td>Yes</td>\n",
       "    </tr>\n",
       "    <tr>\n",
       "      <th>204</th>\n",
       "      <td>Apple MacBook Air 15 M2 Laptop</td>\n",
       "      <td>5799</td>\n",
       "      <td>24.0</td>\n",
       "      <td>12 Months</td>\n",
       "      <td>Manufacturer</td>\n",
       "      <td>619143.0</td>\n",
       "      <td>MQKW3ABA</td>\n",
       "      <td>M2 8-core CPU 16-core Neural Engine</td>\n",
       "      <td>16-core Neural Engine</td>\n",
       "      <td>Yes</td>\n",
       "      <td>...</td>\n",
       "      <td>1080p FaceTime HD Camera</td>\n",
       "      <td>Six-speaker Sound System</td>\n",
       "      <td>Not Applicable</td>\n",
       "      <td>Yes</td>\n",
       "      <td>Lithium Polymer (Li-Po)</td>\n",
       "      <td>34.04 cm ( 13.40 in )</td>\n",
       "      <td>23.76 cm ( 9.35 in )</td>\n",
       "      <td>1.15 cm ( .45 in )</td>\n",
       "      <td>1.51 kg ( 3.33 lb )</td>\n",
       "      <td>No</td>\n",
       "    </tr>\n",
       "  </tbody>\n",
       "</table>\n",
       "<p>187 rows × 36 columns</p>\n",
       "</div>"
      ],
      "text/plain": [
       "                         Product Title  Product Price  \\\n",
       "0            Huawei MateBook 14 Laptop           4299   \n",
       "1       Apple MacBook Air 15 M3 Laptop           5999   \n",
       "2       Apple MacBook Air 15 M3 Laptop           5999   \n",
       "3                          Asus Laptop           3799   \n",
       "4    Microsoft Surface Laptop 7 Laptop           9699   \n",
       "..                                 ...            ...   \n",
       "200     Apple MacBook Air 13 M3 Laptop           5199   \n",
       "201        Lenovo IdeaPad Pro 5 Laptop           5029   \n",
       "202        Huawei MateBook D 14 Laptop           2799   \n",
       "203            Dell Vostro 3520 Laptop           2499   \n",
       "204     Apple MacBook Air 15 M2 Laptop           5799   \n",
       "\n",
       "     Warranty Period (Months) Accesorises warranty  Warranted by       SKU  \\\n",
       "0                        24.0            12 Months  Manufacturer  638525.0   \n",
       "1                        24.0            12 Months  Manufacturer  646475.0   \n",
       "2                        24.0            12 Months  Manufacturer  632673.0   \n",
       "3                        24.0            12 Months  Manufacturer  642879.0   \n",
       "4                        24.0       Not Applicable         JARIR  639206.0   \n",
       "..                        ...                  ...           ...       ...   \n",
       "200                      24.0            12 Months  Manufacturer  646468.0   \n",
       "201                      24.0            12 Months  Manufacturer  631066.0   \n",
       "202                      24.0            12 Months  Manufacturer  608551.0   \n",
       "203                      24.0            12 Months  Manufacturer  646301.0   \n",
       "204                      24.0            12 Months  Manufacturer  619143.0   \n",
       "\n",
       "    Manufacturer Number                       processor type  \\\n",
       "0              53014ASK              Intel Core Ultra 5 125H   \n",
       "1              MC9D4ABA                        M3 8-core CPU   \n",
       "2              MRYR3ABA                        M3 8-core CPU   \n",
       "3         UM3406OLEDR7W                   AMD Ryzen 7-8840HS   \n",
       "4              ZHI00014           Snapdragon X Elite 12 Core   \n",
       "..                  ...                                  ...   \n",
       "200            MC8J4ABA                        M3 8-core CPU   \n",
       "201          83D4004NAD              Intel Core Ultra 7 155H   \n",
       "202            NBDEWDH9      Intel Core i5-1155G7 (11th Gen)   \n",
       "203            VOSTROI5       Intel Core i5-1235U (12th Gen)   \n",
       "204            MQKW3ABA  M2 8-core CPU 16-core Neural Engine   \n",
       "\n",
       "     NPU (Neural Processing Unit) AI (Artificial Intelligence)  ...  \\\n",
       "0                  Intel AI Boost                          Yes  ...   \n",
       "1           16-core Neural Engine                          Yes  ...   \n",
       "2           16-core Neural Engine                          Yes  ...   \n",
       "3          AMD XDNA up to 16 TOPS                          Yes  ...   \n",
       "4    Qualcomm Hexagon NPU 45 TOPS                          Yes  ...   \n",
       "..                            ...                          ...  ...   \n",
       "200         16-core Neural Engine                          Yes  ...   \n",
       "201                Not Applicable                           No  ...   \n",
       "202                Not Applicable                           No  ...   \n",
       "203                Not Applicable                           No  ...   \n",
       "204         16-core Neural Engine                          Yes  ...   \n",
       "\n",
       "                          cam resolution  \\\n",
       "0                      FHD (2 MP) Webcam   \n",
       "1               1080p FaceTime HD Camera   \n",
       "2               1080p FaceTime HD Camera   \n",
       "3                       1080P FHD Camera   \n",
       "4                       1080P FHD Camera   \n",
       "..                                   ...   \n",
       "200             1080p FaceTime HD Camera   \n",
       "201  FHD 1080p + IR with Privacy Shutter   \n",
       "202              720P HD Recessed Camera   \n",
       "203                       720p HD Camera   \n",
       "204             1080p FaceTime HD Camera   \n",
       "\n",
       "                             multimedia features  \\\n",
       "0                          Built-in Mic/Speakers   \n",
       "1                          Built-in Mic/Speakers   \n",
       "2                          Built-in Mic/Speakers   \n",
       "3                                  Harman Kardon   \n",
       "4                                 Not Applicable   \n",
       "..                                           ...   \n",
       "200                        Built-in Mic/Speakers   \n",
       "201  Dolby Atmos Sound System, (2 X 2W) Speakers   \n",
       "202                              2 X 2W Speakers   \n",
       "203                Built-in Dual Stereo Speakers   \n",
       "204                     Six-speaker Sound System   \n",
       "\n",
       "                                      special features fingerprint  \\\n",
       "0                                   Full Size Keyboard         Yes   \n",
       "1                                       Not Applicable         Yes   \n",
       "2                                       Not Applicable         Yes   \n",
       "3                             Backlit Chiclet Keyboard         Yes   \n",
       "4                                             CoPilot+          No   \n",
       "..                                                 ...         ...   \n",
       "200                                     Not Applicable         Yes   \n",
       "201  High Definition Audio, Realtek ALC3287 Codec, ...          No   \n",
       "202                       Low Blue Light, Flicker Free         Yes   \n",
       "203                                     Not Applicable         Yes   \n",
       "204                                     Not Applicable         Yes   \n",
       "\n",
       "                         battery type                   width  \\\n",
       "0             Lithium Polymer (Li-Po)  312.60 mm ( 12.31 in )   \n",
       "1             Lithium Polymer (Li-Po)   34.04 cm ( 13.40 in )   \n",
       "2             Lithium Polymer (Li-Po)   34.04 cm ( 13.40 in )   \n",
       "3       Lithium Ion (Li-Ion) - 4 Cell   32.24 cm ( 12.69 in )   \n",
       "4       Lithium Ion (Li-Ion) - 6 Cell   32.90 cm ( 12.95 in )   \n",
       "..                                ...                     ...   \n",
       "200           Lithium Polymer (Li-Po)   30.41 cm ( 11.97 in )   \n",
       "201           Lithium Polymer (Li-Po)   35.60 cm ( 14.02 in )   \n",
       "202  Lithium Polymer (Li-Po) - 4 Cell   32.25 cm ( 12.70 in )   \n",
       "203     Lithium Ion (Li-Ion) - 3 Cell   35.85 cm ( 14.11 in )   \n",
       "204           Lithium Polymer (Li-Po)   34.04 cm ( 13.40 in )   \n",
       "\n",
       "             height/length                depth               weight  \\\n",
       "0    226.80 mm ( 8.93 in )  15.90 mm ( .63 in )  1.31 kg ( 2.89 lb )   \n",
       "1     23.76 cm ( 9.35 in )   1.15 cm ( .45 in )  1.51 kg ( 3.33 lb )   \n",
       "2     23.76 cm ( 9.35 in )   1.15 cm ( .45 in )  1.51 kg ( 3.33 lb )   \n",
       "3     22.01 cm ( 8.67 in )   1.49 cm ( .59 in )  1.20 kg ( 2.65 lb )   \n",
       "4     23.90 cm ( 9.41 in )   1.80 cm ( .71 in )  1.60 kg ( 3.53 lb )   \n",
       "..                     ...                  ...                  ...   \n",
       "200   21.50 cm ( 8.46 in )   1.10 cm ( .43 in )  1.24 kg ( 2.73 lb )   \n",
       "201   25.10 cm ( 9.88 in )   1.75 cm ( .69 in )  1.94 kg ( 4.28 lb )   \n",
       "202   21.48 cm ( 8.46 in )   1.59 cm ( .63 in )  1.38 kg ( 3.04 lb )   \n",
       "203   23.56 cm ( 9.28 in )   2.25 cm ( .89 in )  1.66 kg ( 3.66 lb )   \n",
       "204   23.76 cm ( 9.35 in )   1.15 cm ( .45 in )  1.51 kg ( 3.33 lb )   \n",
       "\n",
       "    card reader  \n",
       "0            No  \n",
       "1            No  \n",
       "2            No  \n",
       "3           Yes  \n",
       "4            No  \n",
       "..          ...  \n",
       "200          No  \n",
       "201         Yes  \n",
       "202          No  \n",
       "203         Yes  \n",
       "204          No  \n",
       "\n",
       "[187 rows x 36 columns]"
      ]
     },
     "execution_count": 432,
     "metadata": {},
     "output_type": "execute_result"
    }
   ],
   "source": [
    "df"
   ]
  }
 ],
 "metadata": {
  "kernelspec": {
   "display_name": "Python 3 (ipykernel)",
   "language": "python",
   "name": "python3"
  },
  "language_info": {
   "codemirror_mode": {
    "name": "ipython",
    "version": 3
   },
   "file_extension": ".py",
   "mimetype": "text/x-python",
   "name": "python",
   "nbconvert_exporter": "python",
   "pygments_lexer": "ipython3",
   "version": "3.12.4"
  }
 },
 "nbformat": 4,
 "nbformat_minor": 4
}
