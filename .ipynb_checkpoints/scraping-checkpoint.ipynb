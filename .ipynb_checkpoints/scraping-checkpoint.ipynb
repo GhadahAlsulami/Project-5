{
 "cells": [
  {
   "cell_type": "markdown",
   "id": "cf5c5085-6915-4757-abec-12ed2a18689a",
   "metadata": {},
   "source": [
    "## imports"
   ]
  },
  {
   "cell_type": "code",
   "execution_count": null,
   "id": "ff522090-989b-480d-ba79-b6f913c55f51",
   "metadata": {},
   "outputs": [],
   "source": [
    "import time\n",
    "import pandas as pd\n",
    "from selenium import webdriver\n",
    "from selenium.webdriver.common.by import By\n",
    "from selenium.webdriver.chrome.service import Service\n",
    "from webdriver_manager.chrome import ChromeDriverManager\n"
   ]
  },
  {
   "cell_type": "markdown",
   "id": "d0fa48ea-34ea-4141-b545-011551ad0248",
   "metadata": {},
   "source": [
    "## getting the links for each laptop"
   ]
  },
  {
   "cell_type": "code",
   "execution_count": 16,
   "id": "e89de73e-6ff0-4aa5-9fe1-90fc649e3084",
   "metadata": {},
   "outputs": [],
   "source": [
    "# Set up Selenium WebDriver\n",
    "driver = webdriver.Chrome()\n",
    "driver.get(\"https://www.jarir.com/sa-en/computers-peripherals/laptops.html\")\n",
    "\n",
    "# Set to scroll until no new products load\n",
    "SCROLL_PAUSE_TIME = 2\n",
    "product_links = set()\n",
    "last_height = driver.execute_script(\"return document.body.scrollHeight\")\n",
    "\n",
    "while True:\n",
    "    # Scroll down to bottom of the page\n",
    "    driver.execute_script(\"window.scrollTo(0, document.body.scrollHeight);\")\n",
    "    time.sleep(SCROLL_PAUSE_TIME)  # Wait for page to load\n",
    "\n",
    "    # Extract product links\n",
    "    products = driver.find_elements(By.CSS_SELECTOR, \"a.product-tile__link\")\n",
    "    for product in products:\n",
    "        link = product.get_attribute(\"href\")\n",
    "        if link:\n",
    "            product_links.add(link)\n",
    "\n",
    "    # Calculate new scroll height and compare with last scroll height\n",
    "    new_height = driver.execute_script(\"return document.body.scrollHeight\")\n",
    "    if new_height == last_height:\n",
    "        break  # Exit loop if no new products are loaded\n",
    "    last_height = new_height\n",
    "\n",
    "# Close the driver\n",
    "driver.quit()\n"
   ]
  },
  {
   "cell_type": "code",
   "execution_count": 17,
   "id": "9880aef6-ae27-44e5-affd-c565a6eac6f5",
   "metadata": {
    "scrolled": true
   },
   "outputs": [],
   "source": [
    "# Convert product links set to a DataFrame\n",
    "product_links_df = pd.DataFrame(list(product_links), columns=[\"Product Links\"])"
   ]
  },
  {
   "cell_type": "code",
   "execution_count": 18,
   "id": "dd56064f-b9dc-4e75-8947-41fe07357f4a",
   "metadata": {
    "scrolled": true
   },
   "outputs": [],
   "source": [
    "# Save the DataFrame to a CSV file\n",
    "product_links_df.to_csv(\"product_links.csv\", index=False)"
   ]
  },
  {
   "cell_type": "code",
   "execution_count": 19,
   "id": "e6344337-b6c8-47b1-8959-6c19e6f4bcca",
   "metadata": {
    "scrolled": true
   },
   "outputs": [
    {
     "name": "stdout",
     "output_type": "stream",
     "text": [
      "Saved 205 product links to 'product_links.csv'\n"
     ]
    }
   ],
   "source": [
    "# Print confirmation\n",
    "print(f\"Saved {len(product_links)} product links to 'product_links.csv'\")"
   ]
  },
  {
   "cell_type": "markdown",
   "id": "5f1fceb0-0fc3-44a2-a421-135672cce5c3",
   "metadata": {},
   "source": [
    "## using the links to get the info"
   ]
  },
  {
   "cell_type": "code",
   "execution_count": null,
   "id": "4980b65a-1bcd-4fa4-9eb1-48d407a72a6a",
   "metadata": {},
   "outputs": [],
   "source": [
    "import time\n",
    "import pandas as pd\n",
    "from selenium import webdriver\n",
    "from selenium.webdriver.common.by import By\n",
    "from selenium.webdriver.chrome.service import Service\n",
    "from webdriver_manager.chrome import ChromeDriverManager\n",
    "from selenium.webdriver.support.ui import WebDriverWait\n",
    "from selenium.webdriver.support import expected_conditions as EC\n",
    "from selenium.webdriver.common.action_chains import ActionChains\n",
    "\n",
    "# Set up Selenium WebDriver\n",
    "driver = webdriver.Chrome()\n",
    "\n",
    "# Load the CSV file containing the product links\n",
    "product_links_df = pd.read_csv(\"product_links.csv\")\n",
    "product_links = product_links_df[\"Product Links\"].tolist()#[6:10]\n",
    "\n",
    "# Initialize an empty list to store product details\n",
    "product_data = []\n",
    "\n",
    "# Iterate through each product link\n",
    "for link in product_links:\n",
    "    driver.get(link)\n",
    "    time.sleep(2)  # Wait for the page to load\n",
    "\n",
    "    # Handle cookie consent overlay\n",
    "    try:\n",
    "        # Wait for the \"Accept all\" button to be visible and clickable\n",
    "        accept_button = WebDriverWait(driver, 10).until(\n",
    "            EC.element_to_be_clickable((By.CSS_SELECTOR, \".cmpboxbtnyes\"))\n",
    "        )\n",
    "        # Click the \"Accept all\" button to close the cookie consent overlay\n",
    "        accept_button.click()\n",
    "        time.sleep(2)  # Wait for the overlay to disappear\n",
    "    except Exception as e:\n",
    "        print(f\"No cookie overlay found for {link}: {e}\")\n",
    "\n",
    "    # Try to locate and click the \"Show more\" button inside the specification div\n",
    "    try:\n",
    "        show_more_buttons = WebDriverWait(driver, 10).until(\n",
    "            EC.presence_of_all_elements_located((By.XPATH, '//div[@data-card=\"specification\"]//a[contains(@class, \"card__show\")]/span[text()=\"Show more\"]'))\n",
    "        )\n",
    "        if len(show_more_buttons) > 0:\n",
    "            # Click the first \"Show more\" button found in the specification div\n",
    "            show_more_buttons[0].click()\n",
    "            print(\"Clicked the 'Show more' button in specification section\")\n",
    "            # Wait for the content to load after clicking the first button\n",
    "            WebDriverWait(driver, 10).until(\n",
    "                EC.invisibility_of_element_located((By.XPATH, '//div[@data-card=\"specification\"]//a[contains(@class, \"card__show\")]/span[text()=\"Show more\"]'))\n",
    "            )\n",
    "            print(\"Specification content loaded\")\n",
    "        else:\n",
    "            print(f\"No 'Show more' button found in specification section for {link}\")\n",
    "    except Exception as e:\n",
    "        print(f\"Error clicking the 'Show more' button for {link}: {e}\")\n",
    "\n",
    "    # Extract the product title\n",
    "    try:\n",
    "        product_title = driver.find_element(By.CSS_SELECTOR, \"h2.product-title__title\").text.strip()\n",
    "    except Exception as e:\n",
    "        product_title = \"Not available\"\n",
    "        print(f\"Error extracting product title for {link}: {e}\")\n",
    "\n",
    "    # Extract the product price\n",
    "    try:\n",
    "        product_price = driver.find_element(By.CSS_SELECTOR, \".price_alignment .price__currency + span\").text.strip()\n",
    "    except Exception as e:\n",
    "        product_price = \"Not available\"\n",
    "        print(f\"Error extracting product price for {link}: {e}\")\n",
    "\n",
    "    # Scroll to the bottom of the page after clicking the \"Show more\" button\n",
    "    driver.execute_script(\"window.scrollTo(0, document.body.scrollHeight);\")\n",
    "    time.sleep(3)  # Wait for the page to fully load and new content to appear\n",
    "\n",
    "    # Find the product specification table\n",
    "    rows = driver.find_elements(By.CSS_SELECTOR, \"table.table--info.table--bordered-bottom .table__row\")\n",
    "\n",
    "    # Dictionary to hold the details for each product\n",
    "    product_info = {\n",
    "        \"Product Title\": product_title,\n",
    "        \"Product Price\": product_price\n",
    "    }\n",
    "\n",
    "    for row in rows:\n",
    "        # Extract the column name and value\n",
    "        try:\n",
    "            column_name = row.find_element(By.CSS_SELECTOR, \"th.table__item\").text.strip()\n",
    "            value = row.find_element(By.CSS_SELECTOR, \"td.table__item\").text.strip()\n",
    "            product_info[column_name] = value\n",
    "        except Exception as e:\n",
    "            print(f\"Skipping a row due to missing data: {e}\")\n",
    "\n",
    "    # Append the product info to the product_data list\n",
    "    product_data.append(product_info)\n",
    "\n",
    "# Convert the list of dictionaries to a DataFrame\n",
    "product_details_df = pd.DataFrame(product_data)\n",
    "\n",
    "# Save the DataFrame to a CSV file\n",
    "product_details_df.to_csv(\"product_details.csv\", index=False)\n",
    "\n",
    "# Print confirmation\n",
    "print(f\"Saved product details to 'product_details.csv'\")\n",
    "\n",
    "# Close the driver\n",
    "driver.quit()\n"
   ]
  },
  {
   "cell_type": "code",
   "execution_count": null,
   "id": "beb47ee5-3626-4ccc-8582-6da3f767c515",
   "metadata": {},
   "outputs": [],
   "source": [
    "product_details_df"
   ]
  },
  {
   "cell_type": "code",
   "execution_count": null,
   "id": "e8a54a98-4377-4f77-b4c0-3c1babe92507",
   "metadata": {},
   "outputs": [],
   "source": [
    "product_details_df.columns"
   ]
  },
  {
   "cell_type": "code",
   "execution_count": null,
   "id": "2a12caea-8fcc-409e-8fa3-658450418775",
   "metadata": {},
   "outputs": [],
   "source": [
    "product_details_df.shape"
   ]
  },
  {
   "cell_type": "code",
   "execution_count": null,
   "id": "3c59d428-3799-4e25-a2eb-2155cc1c1fb3",
   "metadata": {},
   "outputs": [],
   "source": []
  }
 ],
 "metadata": {
  "kernelspec": {
   "display_name": "Python 3 (ipykernel)",
   "language": "python",
   "name": "python3"
  },
  "language_info": {
   "codemirror_mode": {
    "name": "ipython",
    "version": 3
   },
   "file_extension": ".py",
   "mimetype": "text/x-python",
   "name": "python",
   "nbconvert_exporter": "python",
   "pygments_lexer": "ipython3",
   "version": "3.12.4"
  }
 },
 "nbformat": 4,
 "nbformat_minor": 5
}
