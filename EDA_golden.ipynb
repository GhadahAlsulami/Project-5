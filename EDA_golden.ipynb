{
 "cells": [
  {
   "cell_type": "code",
   "execution_count": 2,
   "id": "035c9ab9-78b2-4d08-b841-384f6cbc7c6b",
   "metadata": {},
   "outputs": [],
   "source": [
    "#Import all relevant libraries\n",
    "import numpy as np\n",
    "import pandas as pd\n",
    "import matplotlib.pyplot as plt\n",
    "import seaborn as sns\n",
    "from scipy.stats import zscore\n",
    "import plotly.express as px\n",
    " \n",
    "## This statement allows the visuals to render within your Jupyter Notebook.\n",
    "%matplotlib inline"
   ]
  },
  {
   "cell_type": "code",
   "execution_count": 3,
   "id": "7245b2d1-b83d-4165-af43-cdf08f6f2e3e",
   "metadata": {},
   "outputs": [],
   "source": [
    "df1 = pd.read_csv(\"Data/GoldenTechnology.xls\")"
   ]
  },
  {
   "cell_type": "code",
   "execution_count": null,
   "id": "6acfe82d-c59e-424d-ba97-ebd69e83386c",
   "metadata": {},
   "outputs": [],
   "source": [
    "df2 = pd"
   ]
  },
  {
   "cell_type": "code",
   "execution_count": 4,
   "id": "9980be5f-ba4c-455e-aa31-a947f0279260",
   "metadata": {},
   "outputs": [
    {
     "data": {
      "text/plain": [
       "Index(['Product Price', 'Product Type', 'Model Number', 'Processor Type',\n",
       "       'Processor Speed', 'RAM', 'Storage Capacity', 'Graphics Card',\n",
       "       'Screen Size', 'Display Resolution', 'Touch Display',\n",
       "       'Network and Communication', 'Operating System', 'Front Camera',\n",
       "       'Rear Camera', 'Speakers Type', 'Battery Type', 'Color',\n",
       "       'Warranty Period', 'Part Number', 'Brand', 'DVD Reader', 'Fingerprint',\n",
       "       'Card Reader', 'Ethernet Port', 'Lighting keyboard',\n",
       "       'keyboard language', 'Display Type', 'Ports', 'Accessories',\n",
       "       'Panel Backlight', 'Display Technology', 'Features', 'Refresh Rate',\n",
       "       'Sync Technology', 'Keyboard type', 'Microsoft Office',\n",
       "       'Mobile broadband', 'High Dynamic Range', 'User Guide',\n",
       "       'Neural Processing', 'Fingerprint Type', 'Response Time',\n",
       "       'Microphone Type'],\n",
       "      dtype='object')"
      ]
     },
     "execution_count": 4,
     "metadata": {},
     "output_type": "execute_result"
    }
   ],
   "source": [
    "df.columns"
   ]
  },
  {
   "cell_type": "code",
   "execution_count": null,
   "id": "b1d0274e-076a-4caf-abde-dc29cdd81a36",
   "metadata": {},
   "outputs": [],
   "source": []
  }
 ],
 "metadata": {
  "kernelspec": {
   "display_name": "Python 3 (ipykernel)",
   "language": "python",
   "name": "python3"
  },
  "language_info": {
   "codemirror_mode": {
    "name": "ipython",
    "version": 3
   },
   "file_extension": ".py",
   "mimetype": "text/x-python",
   "name": "python",
   "nbconvert_exporter": "python",
   "pygments_lexer": "ipython3",
   "version": "3.12.4"
  }
 },
 "nbformat": 4,
 "nbformat_minor": 5
}
